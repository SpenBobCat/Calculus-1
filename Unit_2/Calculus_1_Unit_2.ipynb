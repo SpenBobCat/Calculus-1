{
  "nbformat": 4,
  "nbformat_minor": 0,
  "metadata": {
    "colab": {
      "provenance": [],
      "toc_visible": true,
      "authorship_tag": "ABX9TyNtiA23Zt5t7Eb25WD1+LlH",
      "include_colab_link": true
    },
    "kernelspec": {
      "name": "python3",
      "display_name": "Python 3"
    },
    "language_info": {
      "name": "python"
    }
  },
  "cells": [
    {
      "cell_type": "markdown",
      "metadata": {
        "id": "view-in-github",
        "colab_type": "text"
      },
      "source": [
        "<a href=\"https://colab.research.google.com/github/SpenBobCat/Calculus-1/blob/main/Calculus_1_Unit_2.ipynb\" target=\"_parent\"><img src=\"https://colab.research.google.com/assets/colab-badge.svg\" alt=\"Open In Colab\"/></a>"
      ]
    },
    {
      "cell_type": "markdown",
      "source": [
        "# MATH1040: Calculus I (4 semester credits)\n",
        "\n",
        "**Sophia Learning**\n",
        "\n",
        "COURSE DESCRIPTION\n",
        "\n",
        "Sophia’s Calculus I course helps you build mastery of the fundamental concepts of calculus. In this course, you will start by reviewing precalculus topics and then gain experience with limits and continuity, interpretations and applications of derivatives, and techniques of integration. You will also have the opportunity to demonstrate the application of these calculus topics with real-world situations. Prior completion of Pre- Calculus is recommended.\n",
        "\n",
        "COURSE EFFECTIVE DATES: June 2022 - Present\n",
        "\n",
        "PREREQUISITES: No prerequisites; prior completion of Pre-Calculus is recommended.\n",
        "\n",
        "LENGTH OF COURSE: This is a self-paced course. Students may use as much or as little time as needed to complete the course.\n",
        "\n",
        "ACE CREDIT® RECOMMENDATION: In the lower-division baccalaureate/associate degree category, 4 semester hours in calculus I (6/22).\n",
        "\n",
        "GRADING: This is a pass/fail course. Students must complete 21 Challenges (formative assessments) and 6 Milestones (summative assessments) with an overall score of 70% or better.\n"
      ],
      "metadata": {
        "id": "8hzD6rSpcFcN"
      }
    },
    {
      "cell_type": "markdown",
      "source": [
        "## Using Logarithmic Properties.\n",
        "\n",
        "$log_4(\\frac{x^8 \\cdot z^5}{y^{12}})$ is $8 \\cdot log_4(x) + 5 \\cdot log_4(z) - 12 \\cdot log_4(y)$."
      ],
      "metadata": {
        "id": "J4sbuztvAiYJ"
      }
    },
    {
      "cell_type": "markdown",
      "source": [
        "## The Table Method.\n",
        "\n",
        "$\\lim\\limits_{x\\to3}\\frac{x^{3}-27}{x^{2}-5x+6}$\n",
        "\n",
        "```\n",
        "x      | (x^3 - 27) / (x^2 - 5x + 6)\n",
        "------------------------------------\n",
        "2.9    | 29.011\n",
        "2.99   | 27.182\n",
        "2.999  | 27.018\n",
        "3      | Undefined\n",
        "3.001  | 26.982\n",
        "3.01   | 26.822\n",
        "3.1    | 25.373\n",
        "```\n",
        "\n",
        "$\\lim\\limits_{x\\to3}\\frac{x^{3}-27}{x^{2}-5x+6} = \\lim\\limits_{x\\to3}\\frac{x^2+3x+9}{x-2} = \\frac{3^2+3(3)+9}{3-2} = \\frac{9+9+9}{1} = \\frac{27}{1} = 27$"
      ],
      "metadata": {
        "id": "HdXveP8q4SPN"
      }
    },
    {
      "cell_type": "markdown",
      "source": [
        "## One-Sided Limits.\n",
        "\n",
        "$f(x) = \\begin{cases} {x^2 - 5x} & x < 3 \\\\ 7x - 4 & x \\ge 3 \\end{cases}$\n",
        "\n",
        "Evaluate One-Sided limits of:\n",
        "\n",
        "$\\lim\\limits_{x\\to3^-}f(x)$ and $\\lim\\limits_{x\\to3^+}f(x)$"
      ],
      "metadata": {
        "id": "c8DFYFRl4uiO"
      }
    },
    {
      "cell_type": "markdown",
      "source": [
        "To evaluate the one-sided limits of the function f(x) as x approaches 3 from the left and right, we consider the two separate cases defined by the function for x < 3 and x ≥ 3.\n",
        "\n",
        "For the left-hand limit, as x approaches 3 from the left (x → 3^-), we consider the expression x^2 - 5x, since x < 3:\n",
        "\n",
        "$\\lim\\limits_{x\\to3^-}f(x) = \\lim\\limits_{x\\to3^-}(x^2 - 5x)$\n",
        "\n",
        "Substituting x = 3 into the expression x^2 - 5x:\n",
        "$\\lim\\limits_{x\\to3^-}f(x) = (3^2) - 5(3) = 9 - 15 = -6$\n",
        "\n",
        "Therefore, $\\lim\\limits_{x\\to3^-}f(x) = -6$.\n",
        "\n",
        "For the right-hand limit, as x approaches 3 from the right (x → 3^+), we consider the expression 7x - 4, since x ≥ 3:\n",
        "\n",
        "$\\lim\\limits_{x\\to3^+}f(x) = \\lim\\limits_{x\\to3^+}(7x - 4)$\n",
        "\n",
        "Substituting x = 3 into the expression 7x - 4:\n",
        "$\\lim\\limits_{x\\to3^+}f(x) = 7(3) - 4 = 21 - 4 = 17$\n",
        "\n",
        "Therefore, $\\lim\\limits_{x\\to3^+}f(x) = 17$."
      ],
      "metadata": {
        "id": "j7idmNNIBBDG"
      }
    },
    {
      "cell_type": "markdown",
      "source": [
        "$\\lim\\limits_{x\\to3^-}f(x) = -6$\n",
        "\n",
        "$\\lim\\limits_{x\\to3^+}f(x) = 17$"
      ],
      "metadata": {
        "id": "vgh6njC9Ao6N"
      }
    },
    {
      "cell_type": "markdown",
      "source": [
        "## Using Properties of Limits:\n",
        "\n",
        "Use properties to evaluate limits.\n",
        "\n",
        "Given $\\lim\\limits_{x\\to-5}f(x)=16$ and $\\lim\\limits_{x\\to-5}g(x)=-12$\n",
        "\n",
        "Evaluate:\n",
        "\n",
        "$\\lim\\limits_{x\\to-5}[5f(x) - 3g(x)]$"
      ],
      "metadata": {
        "id": "P_jx8q2OBQ1g"
      }
    },
    {
      "cell_type": "markdown",
      "source": [
        "To evaluate the limit $\\lim\\limits_{x\\to-5}[5f(x) - 3g(x)]$, we can use the properties of limits. According to the properties, we can distribute the limit across the terms involved. Let's calculate it step by step:\n",
        "\n",
        "Given:\n",
        "$\\lim\\limits_{x\\to-5}f(x) = 16$\n",
        "$\\lim\\limits_{x\\to-5}g(x) = -12$\n",
        "\n",
        "Now, let's substitute these values into the expression and simplify:\n",
        "\n",
        "$\\lim\\limits_{x\\to-5}[5f(x) - 3g(x)] = 5\\lim\\limits_{x\\to-5}f(x) - 3\\lim\\limits_{x\\to-5}g(x)$\n",
        "\n",
        "Substituting the given limits:\n",
        "$= 5(16) - 3(-12)$\n",
        "\n",
        "Simplifying:\n",
        "$= 80 + 36$\n",
        "\n",
        "$= 116$\n",
        "\n",
        "Therefore, $\\lim\\limits_{x\\to-5}[5f(x) - 3g(x)] = 116$."
      ],
      "metadata": {
        "id": "xVxIsE4dEV2_"
      }
    },
    {
      "cell_type": "markdown",
      "source": [
        "## Squeeze Theorem.\n",
        "\n",
        "Use the squeeze theorem to evaluate a limit.\n",
        "\n",
        "Suppose $-x^2 - 8x - 14 \\le f(x) \\le 2x + 11$ for all values near $x = -5$ except possibly at $-5$.\n",
        "\n",
        "Evaluate:\n",
        "\n",
        "$\\lim\\limits_{x\\to-5}f(x)$"
      ],
      "metadata": {
        "id": "GmBc2b_fEp1x"
      }
    },
    {
      "cell_type": "markdown",
      "source": [
        "To evaluate the limit $\\lim\\limits_{x\\to-5}f(x)$ using the squeeze theorem, we need to compare the given function $f(x)$ with two other functions whose limits we know. Let's analyze the given inequality:\n",
        "\n",
        "$-x^2 - 8x - 14 \\le f(x) \\le 2x + 11$\n",
        "\n",
        "We can rewrite this as:\n",
        "$-x^2 - 8x - 14 \\le f(x) \\le 2x + 11$\n",
        "\n",
        "Now, let's find the limits of the two bounding functions as $x$ approaches $-5$:\n",
        "\n",
        "$\\lim\\limits_{x\\to-5}-x^2 - 8x - 14 = -5^2 - 8(-5) - 14 = -51$\n",
        "$\\lim\\limits_{x\\to-5}2x + 11 = 2(-5) + 11 = 1$\n",
        "Since $-51 \\le f(x) \\le 1$ for all values near $x = -5$ except possibly at $-5$, we have established a \"squeeze\" on $f(x)$.\n",
        "\n",
        "By the squeeze theorem, if the two bounding functions have the same limit as $x$ approaches $-5$, then the function $f(x)$ must also have the same limit. Therefore, we can conclude that:\n",
        "\n",
        "$\\lim\\limits_{x\\to-5}f(x) = 1$\n",
        "\n",
        "Therefore, the correct answer is (d) $\\lim\\limits_{x\\to-5}f(x) = 1$."
      ],
      "metadata": {
        "id": "OrK4xD3IFiio"
      }
    },
    {
      "cell_type": "markdown",
      "source": [
        "## Continuous Functions.\n",
        "\n",
        "Consider the following function:\n",
        "\n",
        "$f(x) = \\begin{cases}\\sqrt{x^2 +7} & x \\le 3 \\\\ (x-1)^2 & x > 3 \\end{cases}$\n",
        "\n",
        "Determine if $f(x)$ is continuous at $x = 3$"
      ],
      "metadata": {
        "id": "3tffwsswngjs"
      }
    },
    {
      "cell_type": "markdown",
      "source": [
        "To determine if the function $f(x)$ is continuous at $x = 3$, we need to check if the left-hand limit, right-hand limit, and the value of the function at $x = 3$ are all equal.\n",
        "\n",
        "Let's evaluate these values:\n",
        "\n",
        "Left-hand limit as $x$ approaches 3:\n",
        "$\\lim\\limits_{x \\to 3^-} f(x) = \\lim\\limits_{x \\to 3^-} \\sqrt{x^2 + 7}$\n",
        "\n",
        "Since $x \\le 3$ in the first part of the function, we substitute $x = 3$ into $\\sqrt{x^2 + 7}$:\n",
        "$\\lim\\limits_{x \\to 3^-} f(x) = \\sqrt{3^2 + 7} = \\sqrt{16} = 4$\n",
        "\n",
        "Right-hand limit as $x$ approaches 3:\n",
        "$\\lim\\limits_{x \\to 3^+} f(x) = \\lim\\limits_{x \\to 3^+} (x - 1)^2$\n",
        "\n",
        "Since $x > 3$ in the second part of the function, we substitute $x = 3$ into $(x - 1)^2$:\n",
        "$\\lim\\limits_{x \\to 3^+} f(x) = (3 - 1)^2 = 2^2 = 4$\n",
        "\n",
        "Value of the function at $x = 3$:\n",
        "$f(3) = (3 - 1)^2 = 2^2 = 4$\n",
        "\n",
        "Since the left-hand limit, right-hand limit, and the value of the function at $x = 3$ are all equal to 4, we can conclude that $f(x)$ is continuous at $x = 3$.\n",
        "\n",
        "Therefore, the function $f(x)$ is continuous at $x = 3$."
      ],
      "metadata": {
        "id": "5apOvPS7o818"
      }
    },
    {
      "cell_type": "markdown",
      "source": [
        "## Combinations of Continuous Functions.\n",
        "\n",
        "Using the properties of combinations of continuous functions, determine the interval(s) over which the function $f(x) = x^2 \\sqrt{x + 12}$ is continuous.\n",
        "\n",
        "\n",
        "a. $[12, \\infty)$\n",
        "\n",
        "b. $(-\\infty, \\infty)$\n",
        "\n",
        "c. $(-\\infty, -12]$\n",
        "\n",
        "d. $[-12, \\infty)$"
      ],
      "metadata": {
        "id": "ewUBJRC8qUTg"
      }
    },
    {
      "cell_type": "markdown",
      "source": [
        "To determine the interval(s) over which the function $f(x) = x^2 \\sqrt{x + 12}$ is continuous, we need to consider the individual functions within $f(x)$ and their respective intervals of continuity.\n",
        "\n",
        "The function $x^2$ is a polynomial, and polynomials are continuous for all real numbers. Therefore, $x^2$ is continuous for all values of $x$.\n",
        "\n",
        "The function $\\sqrt{x + 12}$ involves a square root. For the square root function to be defined, the expression inside the square root must be greater than or equal to zero. So, we have $x + 12 \\geq 0$. Solving this inequality, we find $x \\geq -12$.\n",
        "\n",
        "Combining the continuity of the individual functions within $f(x)$, we find that $x^2$ is continuous for all real numbers, and $\\sqrt{x + 12}$ is continuous for $x \\geq -12$.\n",
        "\n",
        "Therefore, the function $f(x) = x^2 \\sqrt{x + 12}$ is continuous for all $x \\geq -12$. The interval over which $f(x)$ is continuous is $[-12, \\infty)$."
      ],
      "metadata": {
        "id": "0OXcsTDIq9zl"
      }
    },
    {
      "cell_type": "markdown",
      "source": [
        "## Intermediate Value Theorem.\n",
        "\n",
        "Use the Intermediate Value Theorem to determine the existence of a solution to $f(x) = V$ on the interval $[a, b]$.\n",
        "\n",
        "Let $f(x) = x^2 - 3x$ on $[4,7]$\n",
        "\n",
        "Use the IVT to determine if there is a solution to $f(x) = 10$ in the interval between $4\\; and\\; 7$. If so, find the value of $c$ in the interval such that $f(c) = 10$.\n",
        "\n",
        "a.  \n",
        "\n",
        "*   $f(x)$ is continuous on $[4, 7]$\n",
        "*   $10$ is between $f(4) = 4\\; and \\;f(7) = 28$\n",
        "*   $c = -7,\\; c = 10$\n",
        "\n",
        "b.\n",
        "\n",
        "*   $f(x)$ is continuous on $[4, 7]$\n",
        "*   $10$ is between $f(4) = 4\\; and \\;f(7) = 28$\n",
        "*   $c = 5$\n",
        "\n",
        "c.\n",
        "*   $f(x)$ is continuous on $[4, 7]$\n",
        "*   $10$ is between $f(4) = 4\\; and \\;f(7) = 28$\n",
        "*   $c = -2,\\; c = 5$\n",
        "\n",
        "d.  \n",
        "*   $f(x)$ is continuous on $[4, 7]$\n",
        "*   $10$ is between $f(4) = 4\\; and \\;f(7) = 28$\n",
        "*   $c = 70$\n",
        "\n",
        "\n"
      ],
      "metadata": {
        "id": "TsS9cFJhsZjs"
      }
    },
    {
      "cell_type": "markdown",
      "source": [
        "The correct answer is:\n",
        "\n",
        "b.\n",
        "\n",
        "- $f(x)$ is continuous on $[4, 7]$\n",
        "- $10$ is between $f(4) = 4$ and $f(7) = 28$\n",
        "- By the Intermediate Value Theorem, there exists a value $c$ in the interval $[4, 7]$ such that $f(c) = 10$\n",
        "\n",
        "To find the value of $c$ in the interval such that $f(c) = 10$, we can set up the equation $f(c) = 10$ and solve for $c$.\n",
        "\n",
        "- $f(c) = c^2 - 3c = 10$\n",
        "\n",
        "- Rearranging the equation:\n",
        "$c^2 - 3c - 10 = 0$\n",
        "\n",
        "- Factoring the quadratic equation:\n",
        "$(c - 5)(c + 2) = 0$\n",
        "\n",
        "- Setting each factor equal to zero and solving for $c$:\n",
        "$c - 5 = 0 \\implies c = 5$\n",
        "$c + 2 = 0 \\implies c = -2$\n",
        "\n",
        "Therefore, the value of $c$ in the interval $[4, 7]$ such that $f(c) = 10$ is $c = 5$."
      ],
      "metadata": {
        "id": "Vcel6sIqwLtX"
      }
    },
    {
      "cell_type": "markdown",
      "source": [
        "#2.4 Definition of a Limit.\n",
        "\n",
        "\n",
        "For specific values of epsilon, find $\\delta$ so that $|x – a| < \\delta \\implies |f(x) – a| < \\epsilon$."
      ],
      "metadata": {
        "id": "_k2oYEcTxTQk"
      }
    },
    {
      "cell_type": "markdown",
      "source": [
        "### Question 1.\n",
        "\n",
        "Consider the following limit statement:\n",
        "\n",
        "$\\lim\\limits_{x\\to-5}(4x + 27) = 7$\n",
        "\n",
        "Find the corresponding value of $\\delta$ when $\\epsilon = 0.01$\n",
        "\n",
        "a. $\\delta = -4.9975$ \\\\\n",
        "b. $\\delta = 0.0025$ \\\\\n",
        "c. $\\delta = 0.025$ \\\\\n",
        "d. $\\delta = -0.0025$ \\\\"
      ],
      "metadata": {
        "id": "z7lbzgx5k1Lx"
      }
    },
    {
      "cell_type": "markdown",
      "source": [
        "To find the corresponding value of $\\delta$ when $\\epsilon = 0.01$ for the given limit statement, we need to determine a range around $x = -5$ that will ensure the function $(4x + 27)$ stays within $\\epsilon$ of the limit value of $7$.\n",
        "\n",
        "In this case, $\\delta$ represents the range around $x = -5$. We want to find the value of $\\delta$ such that when $x$ is within $\\delta$ of $-5$, the function $(4x + 27)$ will be within $\\epsilon = 0.01$ of the limit value of $7$.\n",
        "\n",
        "To do this, we can consider the distance between the function $(4x + 27)$ and the limit value of $7$. When this distance is less than $\\epsilon$, we can say that the function is within $\\epsilon$ of the limit value.\n",
        "\n",
        "Let's calculate the distance between the function and the limit value:\n",
        "\n",
        "$| (4x + 27) - 7 | < ε$ \\\\\n",
        "$| (4x + 27) - 7 | < 0.01$\n",
        "\n",
        "Simplifying the inequality:\n",
        "\n",
        "$|4x + 20| < 0.01$\n",
        "\n",
        "$|x| < a$ means $-a < x < a$, so we can say:\n",
        "\n",
        "$-0.01 < 4x + 20 < 0.01$\n",
        "\n",
        "Subtract $20$ from all three parts:\n",
        "\n",
        "$-20.01 < 4x < -19.99$\n",
        "\n",
        "Divide all parts by $4$:\n",
        "\n",
        "$-5.0025 < x < -4.9975$\n",
        "\n",
        "Subtract $-5$, which is add $5$, to all three parts to get $x - (-5)$ simplified gives $x + 5$, in the middle:\n",
        "\n",
        "$-0.0025 < x + 5 < 0.0025$\n",
        "\n",
        "Thus, $\\delta = 0.0025$."
      ],
      "metadata": {
        "id": "QrUDvObZdzAm"
      }
    },
    {
      "cell_type": "markdown",
      "source": [
        "### Question 2.\n",
        "\n",
        "Consider the following limit statement:\n",
        "\n",
        "$\\lim\\limits_{x\\to2}(3x - 8) = -2$\n",
        "\n",
        "Find the corresponding value of $\\delta$ when $\\epsilon = 0.06$\n",
        "\n",
        "a. $\\delta = 0.02$ \\\\\n",
        "b. $\\delta = 0.2$ \\\\\n",
        "c. $\\delta = 2.02$ \\\\\n",
        "d. $\\delta = -0.02$ \\\\"
      ],
      "metadata": {
        "id": "lOM1qpz0gYDb"
      }
    },
    {
      "cell_type": "markdown",
      "source": [
        "Given $\\epsilon = 0.06$, we want to have $|3x - 6| < 0.06$. Simplifying the inequality as you described, we obtain:\n",
        "\n",
        "$|3x - 6| < 0.06$\n",
        "\n",
        "Since the absolute value of $3x - 6$ is always non-negative, we can remove the absolute value symbols and solve the inequality:\n",
        "\n",
        "$-0.06 < 3x - 6 < 0.06$\n",
        "\n",
        "Adding 6 to all three parts:\n",
        "\n",
        "$5.94 < 3x < 6.06$\n",
        "\n",
        "Dividing all three parts by 3:\n",
        "\n",
        "$1.98 < x < 2.02$\n",
        "\n",
        "Subtracting 2 from all three parts to get $x - 2$ in the middle:\n",
        "\n",
        "$-0.02 < x - 2 < 0.02$\n",
        "\n",
        "Therefore, the corresponding value of $\\delta$ when $\\epsilon = 0.06$ is $\\delta = 0.02$."
      ],
      "metadata": {
        "id": "8wjIVvKJmR9Q"
      }
    },
    {
      "cell_type": "markdown",
      "source": [
        "### Question 3.\n",
        "\n",
        "Consider the following limit statement:\n",
        "\n",
        "$\\lim\\limits_{x\\to-3}(5x + 9) = -6$\n",
        "\n",
        "Find the corresponding value of $\\delta$ when $\\epsilon = 0.001$\n",
        "\n",
        "a. $\\delta = -5.9998$ \\\\\n",
        "b. $\\delta = 0.0002$ \\\\\n",
        "c. $\\delta = -0.0002$ \\\\\n",
        "d. $\\delta = 0.002$ \\\\"
      ],
      "metadata": {
        "id": "IC_jawejnMvt"
      }
    },
    {
      "cell_type": "markdown",
      "source": [
        "To find the corresponding value of δ when ε = 0.001 for the given limit statement, we need to determine a range around x = -3 that will ensure the function (5x + 9) stays within ε of the limit value of -6.\n",
        "\n",
        "Given $\\epsilon = 0.001$, we want to have $|5x + 9 - (-6)| < 0.001$. Simplifying the inequality:\n",
        "\n",
        "$|5x + 9 + 6| < 0.001$\n",
        "\n",
        "$|5x + 15| < 0.001$\n",
        "\n",
        "Since the absolute value of a quantity is always non-negative, we can remove the absolute value symbols and solve the inequality:\n",
        "\n",
        "$-0.001 < 5x + 15 < 0.001$\n",
        "\n",
        "Subtracting 15 from all three parts:\n",
        "\n",
        "$-15.001 < 5x < -14.999$\n",
        "\n",
        "Dividing all three parts by 5:\n",
        "\n",
        "$-3.0002 < x < -2.9998$\n",
        "\n",
        "Subtracting -3, which is equivalent to adding 3 to all parts, to get $x - (-3)$, simplified gives $x + 3$:\n",
        "\n",
        "$-0.0002 < x + 3 < 0.0002$\n",
        "\n",
        "Therefore, the corresponding value of $\\delta$ when $\\epsilon = 0.001$ is $\\delta = 0.0002$.\n",
        "\n",
        "The correct answer is b. $\\delta = 0.0002$."
      ],
      "metadata": {
        "id": "MeK8EdRQmnkZ"
      }
    },
    {
      "cell_type": "markdown",
      "source": [
        "## Formal Definition of a Limit.\n",
        "\n",
        "For a general value of $\\epsilon$, find $\\delta$ so that $|x – a| < \\delta$ given $|f(x) – L| < \\epsilon$\n",
        "\n"
      ],
      "metadata": {
        "id": "efyqWrn9qKSr"
      }
    },
    {
      "cell_type": "markdown",
      "source": [
        "### Question 1.\n",
        "\n",
        "For $\\epsilon > 0$, find $\\delta > 0$ necessary to prove $\\lim\\limits_{x\\to8}(2x - 13) = 3$"
      ],
      "metadata": {
        "id": "KwmB5ttB6r_o"
      }
    },
    {
      "cell_type": "markdown",
      "source": [
        "To find δ for a given ε > 0 to prove the limit statement $\\lim\\limits_{x\\to8}(2x - 13) = 3$, we need to determine a range around $x = 8$ such that the function $(2x - 13)$ stays within ε of the limit value of $3.$\n",
        "\n",
        "Given $\\epsilon > 0$, we want to have $|(2x - 13) - 3| < \\epsilon$. Simplifying the inequality:\n",
        "\n",
        "$|2x - 16| < \\epsilon$\n",
        "\n",
        "Since the absolute value of a quantity is always non-negative, we can remove the absolute value symbols and solve the inequality:\n",
        "\n",
        "$-\\epsilon < 2x - 16 < \\epsilon$\n",
        "\n",
        "Adding 16 to all three parts:\n",
        "\n",
        "$16 - \\epsilon < 2x < 16 + \\epsilon$\n",
        "\n",
        "Dividing all three parts by 2:\n",
        "\n",
        "$\\frac{16 - \\epsilon}{2} < x < \\frac{16 + \\epsilon}{2}$\n",
        "\n",
        "Simplifying:\n",
        "\n",
        "$8 - \\frac{\\epsilon}{2} < x < 8 + \\frac{\\epsilon}{2}$\n",
        "\n",
        "To ensure that $(2x - 13)$ stays within $\\epsilon$ of $3$, we need the range $(8 - \\delta, 8 + \\delta)$ to be contained within the range $\\left(8 - \\frac{\\epsilon}{2}, 8 + \\frac{\\epsilon}{2}\\right)$.\n",
        "\n",
        "Thus, we can set $\\delta$ = $\\frac{\\epsilon}{2}$.\n",
        "\n",
        "Therefore, for any given $\\epsilon > 0$, choosing $\\delta = \\frac{\\epsilon}{2}$ ensures that the function $(2x - 13)$ stays within $\\epsilon$ of the limit value of $3$ as $x$ approaches $8$."
      ],
      "metadata": {
        "id": "XPMQnCTu7e8O"
      }
    },
    {
      "cell_type": "markdown",
      "source": [],
      "metadata": {
        "id": "0y-yI4-k9T5W"
      }
    }
  ]
}