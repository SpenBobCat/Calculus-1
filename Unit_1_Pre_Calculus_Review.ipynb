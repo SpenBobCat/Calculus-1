{
  "nbformat": 4,
  "nbformat_minor": 0,
  "metadata": {
    "colab": {
      "provenance": [],
      "toc_visible": true,
      "authorship_tag": "ABX9TyNvfzs77v9uvcw+5+KTM6om",
      "include_colab_link": true
    },
    "kernelspec": {
      "name": "python3",
      "display_name": "Python 3"
    },
    "language_info": {
      "name": "python"
    }
  },
  "cells": [
    {
      "cell_type": "markdown",
      "metadata": {
        "id": "view-in-github",
        "colab_type": "text"
      },
      "source": [
        "<a href=\"https://colab.research.google.com/github/SpenBobCat/Calculus-1/blob/main/Unit_1_Pre_Calculus_Review.ipynb\" target=\"_parent\"><img src=\"https://colab.research.google.com/assets/colab-badge.svg\" alt=\"Open In Colab\"/></a>"
      ]
    },
    {
      "cell_type": "markdown",
      "source": [
        "Calculus-1\n",
        "\n",
        "# **Unit-1_Pre-Calculus_Review.**\n",
        "\n",
        "Sophia Learning Platform\n",
        "\n",
        "By: Michael Spencer 7/23/2023"
      ],
      "metadata": {
        "id": "STYhoG6wwhCn"
      }
    },
    {
      "cell_type": "markdown",
      "source": [
        "## Evaluate Piecewise Functions."
      ],
      "metadata": {
        "id": "0BbkVgJowuCp"
      }
    },
    {
      "cell_type": "markdown",
      "source": [
        "### 1. **Consider the following piecewise function:**\n",
        "\n",
        "**$f(x) = \\begin{cases} 3x + 9 & x < -1 \\\\ 3x^2 - 5x + 2 & x \\ge -1 \\end{cases}$**\n",
        "\n",
        "**Evaluate $f(-3), f(-1), f(2)$**\n"
      ],
      "metadata": {
        "id": "Hz-Z1ZcMxCQT"
      }
    },
    {
      "cell_type": "markdown",
      "source": [
        "- $f(-3)$ select $x < -1$:  $f(-3) = 3(-3) + 9 = 0$\n",
        "- $f(-1)$ select $x \\ge -1$: $f(-1) = 3(-1)^2 - 5(-1) + 2 = 10$\n",
        "- $f(2)$ select $x \\ge -1$:  $f(2) = 3(2)^2 - 5(2) + 2 = 4$\n",
        "\n"
      ],
      "metadata": {
        "id": "y-JfYwURyLc1"
      }
    },
    {
      "cell_type": "markdown",
      "source": [
        "### 2. **Consider the following piecewise function:**\n",
        "\n",
        "**$f(x) = \\begin{cases} 3x & x < 3 \\\\ -2x^3 + 5x - 4 & x \\ge 3 \\end{cases}$**\n",
        "\n",
        "**Evaluate $f(-5), f(3), f(5)$**\n"
      ],
      "metadata": {
        "id": "anEcGLCQzXUO"
      }
    },
    {
      "cell_type": "markdown",
      "source": [
        "- $f(-5)$: $3(-5) = -15$\n",
        "- $f(3)$: $-2(3)^3 + 5(3) - 4 = -54 + 15 - 4 = -43$\n",
        "- $f(5)$: $-2(5)^3 + 5(5) - 4 = -250 + 25 - 4 = -229$"
      ],
      "metadata": {
        "id": "KtfmQQeR0zjZ"
      }
    },
    {
      "cell_type": "markdown",
      "source": [
        "## Trigonometric Functions."
      ],
      "metadata": {
        "id": "_1w26rmD2LJW"
      }
    },
    {
      "cell_type": "markdown",
      "source": [
        "### 1. **Solve the equation: $2\\cos(x) - \\sqrt{3} = 0$ on the interval $[0, 2\\pi]$**\n"
      ],
      "metadata": {
        "id": "Qy42sZTm2wTy"
      }
    },
    {
      "cell_type": "markdown",
      "source": [
        "First isolate the $\\cos(x)$ term to one side by adding $\\sqrt{3}$ to both sides:\n",
        "\n",
        "$2\\cos(x) = \\sqrt{3}$\n",
        "\n",
        "Solve for $\\cos(x)$ by dividing both sides by $2$\n",
        "\n",
        "$\\cos(x) = \\frac{\\sqrt{3}}{2}$\n",
        "\n",
        "Consulting the unit circle, this means that $x = 30^\\circ$ and $330^\\circ$\n",
        "\n",
        "In radians this means $x = \\frac{\\pi}{6}$ and $x = \\frac{11\\pi}{6}$"
      ],
      "metadata": {
        "id": "a2fw78u93LvA"
      }
    },
    {
      "cell_type": "markdown",
      "source": [
        "### 2. **Find the exact value of $\\sin(\\frac{\\pi}{4})$ by using the unit circle.**"
      ],
      "metadata": {
        "id": "1J4FCiQF5NRY"
      }
    },
    {
      "cell_type": "markdown",
      "source": [
        "$\\sin(\\frac{\\pi}{4}) = \\sin(45^\\circ) = \\frac{\\sqrt{2}}{2}$"
      ],
      "metadata": {
        "id": "BKmjH1dq5-LV"
      }
    },
    {
      "cell_type": "markdown",
      "source": [
        "## Composition of Functions."
      ],
      "metadata": {
        "id": "NOF2Wa2z6pwr"
      }
    },
    {
      "cell_type": "markdown",
      "source": [
        "### 1. **Let $f(x) = 7x - 4$ and $g(x) = -2x^2 +8$.**\n",
        "\n",
        "**Find and Simplify: $(g \\circ f(x))$**"
      ],
      "metadata": {
        "id": "OtyvoLXq7Bl3"
      }
    },
    {
      "cell_type": "markdown",
      "source": [
        "Rewrite using the definition of composition:\n",
        "\n",
        "$(g \\circ f(x)) = g(f(x))$\n",
        "\n",
        "Substitute: $7x - 4$ for $f(x)$\n",
        "\n",
        "$g(f(x)) = g(7x - 4)$\n",
        "\n",
        "Evaluate the function and simplify:\n",
        "\n",
        "$g(f(x)) = -2(7x - 4)^2 + 8$\n",
        "$g(f(x)) = -2(7x - 4)(7x - 4) + 8$\n",
        "$g(f(x)) = -2(49x^2 - 56x + 16) + 8$\n",
        "$g(f(x)) = -98x^2 + 112x^2 - 32 + 8$\n",
        "$g(f(x)) = -98x^2 + 112x^2 - 24$ \\\\\n",
        "\n",
        "\n",
        "$(g \\circ f(x)) = -98x^2 + 112x^2 - 24$\n",
        "\n"
      ],
      "metadata": {
        "id": "dRGNIccH7tk9"
      }
    },
    {
      "cell_type": "markdown",
      "source": [
        "### 2. **Let $f(x) = 3x - 2$ and $g(x) = -5x^2 + 4$**\n",
        "\n",
        "**Find and Simplify: $(g \\circ f(x))$**"
      ],
      "metadata": {
        "id": "wyirVhAm-Nsp"
      }
    },
    {
      "cell_type": "markdown",
      "source": [
        "Rewrite using the definition of composition:\n",
        "\n",
        "$(g \\circ f(x)) = g(f(x))$\n",
        "\n",
        "Substitute $3x - 2$ for $f(x)$:\n",
        "\n",
        "$g(f(x)) = g(3x - 2)$\n",
        "\n",
        "Evaluate the function and simplify:\n",
        "\n",
        "$g(f(x)) = -5(3x - 2)^2 + 4$\n",
        "$g(f(x)) = -5(3x - 2)(3x - 2) + 4$\n",
        "$g(f(x)) = -5(9x^2 - 12x + 4) + 4$\n",
        "$g(f(x)) = -45x^2 + 60x - 16$ \\\\\n",
        "\n",
        "$(g \\circ f(x)) = -45x^2 + 60x - 16$\n"
      ],
      "metadata": {
        "id": "XJafJwshDIXD"
      }
    },
    {
      "cell_type": "markdown",
      "source": [
        "## Exponential and Logarithmic Functions."
      ],
      "metadata": {
        "id": "DngBXAjBFIkU"
      }
    },
    {
      "cell_type": "markdown",
      "source": [
        "### 1. **Use logarithm properties to expand the expression:**\n",
        "\n",
        "**$\\log_{4} (\\frac{x^8 z^5}{y^{12}})$**\n"
      ],
      "metadata": {
        "id": "NUVpwbsdFYJm"
      }
    },
    {
      "cell_type": "markdown",
      "source": [
        "$\\frac{x^8 z^5}{y^{12}}$ is a quotient; apply the quotient property:\n",
        "\n",
        "$\\log_4 (x^8 z^5) - \\log_4(y^{12})$\n",
        "\n",
        "$x^8 z^5$ is a product; apply the product property:\n",
        "\n",
        "$\\log_4 x^8 + \\log_4 z^5 - \\log_4 y^{12}$\n",
        "\n",
        "Apply the power property:\n",
        "\n",
        "$8\\log_4 x + 5\\log_4 z - 12\\log_4 y$"
      ],
      "metadata": {
        "id": "QdybpZgpGlz5"
      }
    },
    {
      "cell_type": "markdown",
      "source": [
        "### 2. **Use logarithm properies to write $12\\log_2 y + 7\\log_2 w - 15\\log_2 z$ as a single logarithm.**\n"
      ],
      "metadata": {
        "id": "JGWZDR7GH_Xz"
      }
    },
    {
      "cell_type": "markdown",
      "source": [
        "$12\\log_2 y + 7\\log_2 w - 15\\log_2 z$\n",
        "\n",
        "Reverse the power property:\n",
        "\n",
        "$\\log_2 y^{12} + \\log_2 w^7 - \\log_2 z^{15}$\n",
        "\n",
        "Reverse the product property:\n",
        "\n",
        "$\\log_2 (y^{12} w^7) - \\log_2 z^{15}$\n",
        "\n",
        "Reverse the quotient property:\n",
        "\n",
        "$\\log_2 (\\frac{y^{12} w^7}{z^{15}})$\n"
      ],
      "metadata": {
        "id": "tNSYxM9vKGkd"
      }
    },
    {
      "cell_type": "markdown",
      "source": [
        "##  Set Up and Simplify a Difference Quotient."
      ],
      "metadata": {
        "id": "84FtwHR2NL47"
      }
    },
    {
      "cell_type": "markdown",
      "source": [
        "### 1. **Evaluate the difference quotient for $f(x) = -x^3 +10$**"
      ],
      "metadata": {
        "id": "wvyYWPnhNcSr"
      }
    },
    {
      "cell_type": "markdown",
      "source": [
        "For $f(x + h)$, substitute $(x + h)$ for $x$:\n",
        "\n",
        "$\\frac{[-(x + h)^3 + 10] - [-x^3 + 10]}{h}$\n",
        "\n",
        "Simplify the first quantity in brackets:\n",
        "\n",
        "$\\frac{[-x^3 - 3x^2h - 3xh^2 - h^3 + 10] - [-x^3 + 10]}{h}$\n",
        "\n",
        "Distribute the subtraction sign:\n",
        "\n",
        "$\\frac{-x^3 - 3x^2h - 3xh^2 - h^3 + 10 + x^3 - 10}{h}$\n",
        "\n",
        "Simplify the numerator:\n",
        "\n",
        "$\\frac{-3x^2h - 3xh^2 - h^3}{h}$\n",
        "\n",
        "Factor the numerator:\n",
        "\n",
        "$\\frac{h(-3x^2 - 3xh - h^2)}{h}$\n",
        "\n",
        "Divide out the common factor:\n",
        "\n",
        "$-3x^2 - 3xh - h^2$"
      ],
      "metadata": {
        "id": "WBm3Fu0YNzrU"
      }
    },
    {
      "cell_type": "markdown",
      "source": [
        "### 2. **Evaluate the difference quotient for $f(x) = 7x^2 - 4x + 6$**\n"
      ],
      "metadata": {
        "id": "08-xau1XQWo6"
      }
    },
    {
      "cell_type": "markdown",
      "source": [
        "For f(x + h), substitute (x + h) for x:\n",
        "\n",
        "$\\frac{[7(x + h)^2 - 4(x + h) + 6] - [7x^2 - 4x + 6]}{h}$\n",
        "\n",
        "Simplify the first quantity in brackets:\n",
        "\n",
        "$\\frac{[7x^2 + 14xh + 7h^2 - 4x - 4h + 6] - [7x^2 - 4x + 6]}{h}$\n",
        "\n",
        "Distribute the subtraction sign:\n",
        "\n",
        "$\\frac{7x^2 + 14xh + 7h^2 - 4x - 4h + 6 -7x^2 + 4x - 6}{h}$\n",
        "\n",
        "Simplify the numerator:\n",
        "\n",
        "$\\frac{14xh + 7h^2 - 4h}{h}$\n",
        "\n",
        "Factor the numerator:\n",
        "\n",
        "$\\frac{h(14x + 7h - 4)}{h}$\n",
        "\n",
        "Divide out the common factor:\n",
        "\n",
        "$14x + 7h - 4$\n",
        "\n"
      ],
      "metadata": {
        "id": "RlxglwJ5QmaE"
      }
    },
    {
      "cell_type": "markdown",
      "source": [
        "## Slope of a Line Between Two Points."
      ],
      "metadata": {
        "id": "xXIhLudmSeQE"
      }
    },
    {
      "cell_type": "markdown",
      "source": [
        "### 1. **Calculate the slope of the line that passes through (13, -8) and (2, 8).**"
      ],
      "metadata": {
        "id": "pXT3zj79UQMr"
      }
    },
    {
      "cell_type": "markdown",
      "source": [
        "### 2. **Use point-slope form to write the equation of a line that contains the point (-2, 5) and the slope $-\\frac{3}{2}$**"
      ],
      "metadata": {
        "id": "H7b-dnKZUSHb"
      }
    },
    {
      "cell_type": "markdown",
      "source": [
        "## Shifting and Stretching Graphs."
      ],
      "metadata": {
        "id": "hsW_ZBt2USkL"
      }
    },
    {
      "cell_type": "markdown",
      "source": [],
      "metadata": {
        "id": "oKzJJ6vFUcZD"
      }
    },
    {
      "cell_type": "markdown",
      "source": [],
      "metadata": {
        "id": "4rQ2EI1uUc1b"
      }
    },
    {
      "cell_type": "markdown",
      "source": [
        "## Evaluate Functions."
      ],
      "metadata": {
        "id": "_fjwV22ZUdQT"
      }
    },
    {
      "cell_type": "markdown",
      "source": [
        "### 1. **Consider the function $f(x) = -x^2 - 4x + 5$. Use it to find $f(2), f(-3), f(a - 4)$**"
      ],
      "metadata": {
        "id": "RZD_XrV1Umve"
      }
    },
    {
      "cell_type": "markdown",
      "source": [
        "### 2. **Consider the function $f(x) = -2x^2 + 7x + 5$. Use it to find $f(3), f(-4), f(a - 6)$**"
      ],
      "metadata": {
        "id": "jVcqw-joUnA2"
      }
    },
    {
      "cell_type": "markdown",
      "source": [
        "## Distance Between Two Points."
      ],
      "metadata": {
        "id": "i5RIvt8BUnTe"
      }
    },
    {
      "cell_type": "markdown",
      "source": [
        "### 1. **Calculate the distance between the points (8, -3) and (12, 2).**"
      ],
      "metadata": {
        "id": "QD6Ft8e3UxQ3"
      }
    },
    {
      "cell_type": "markdown",
      "source": [
        "To find the distance between two points, use the distance formula:\n",
        "\n",
        "$d = \\sqrt{(x_2 - x_1)^2 + (y_2 - y_1)^2}$:\n",
        "\n",
        "$x_1 = 8$ \\\\\n",
        "$x_2 = 12$ \\\\\n",
        "$y_1 = -3$ \\\\\n",
        "$y_2 = 2$ \\\\\n",
        "\n",
        "$d = \\sqrt{(12 - 8)^2 + (2 - (-3))^2}$\n",
        "\n",
        "$d = \\sqrt{(4)^2 + (5)^2}$\n",
        "\n",
        "$d = \\sqrt{16 + 25}$\n",
        "\n",
        "$d = \\sqrt{41}$"
      ],
      "metadata": {
        "id": "Z4lVa7VjVzYT"
      }
    },
    {
      "cell_type": "markdown",
      "source": [
        "### 2. **Calculate the exact distance between the two points (-5, -2) and (9, 1).**"
      ],
      "metadata": {
        "id": "ajqIU9INUxo3"
      }
    },
    {
      "cell_type": "markdown",
      "source": [
        "To find the distance between two points, use the distance formula:\n",
        "\n",
        "$d = \\sqrt{(x_2 - x_1)^2 + (y_2 - y_1)^2}$:\n",
        "\n",
        "$x_1 = -5$ \\\\\n",
        "$x_2 = 9$ \\\\\n",
        "$y_1 = -2$ \\\\\n",
        "$y_2 = 1$ \\\\\n",
        "\n",
        "$d = \\sqrt{(9 - (-5))^2 + (1 - (-2))^2}$\n",
        "\n",
        "$d = \\sqrt{(14)^2 + (3)^2}$\n",
        "\n",
        "$d = \\sqrt{205}$"
      ],
      "metadata": {
        "id": "Cu9Zbk20XlMX"
      }
    },
    {
      "cell_type": "markdown",
      "source": [
        "## Equations of Lines."
      ],
      "metadata": {
        "id": "KVKwL_R3Ux__"
      }
    },
    {
      "cell_type": "markdown",
      "source": [
        "### 1. **Use point-slope form to write the equation of the line that contains the point (-2, 5) and has slope $-\\frac{3}{2}$**"
      ],
      "metadata": {
        "id": "FF9ujzoqU3ev"
      }
    },
    {
      "cell_type": "markdown",
      "source": [
        "### 2. **Write the equation of a line that contains the point (-6, 2) and has slope $\\frac{5}{3}$ in slope-intercept form.**"
      ],
      "metadata": {
        "id": "7kJn6pM6U3wP"
      }
    },
    {
      "cell_type": "markdown",
      "source": [
        "## What is a Function?"
      ],
      "metadata": {
        "id": "8Uj8YZOgU4Dg"
      }
    },
    {
      "cell_type": "markdown",
      "source": [
        "### 1. **Which of the following is a function?**\n",
        "\n",
        "a. $6x - 3y = 21$\n",
        "\n",
        "b. $59y^2 - 14x^2 = 23$\n",
        "\n",
        "c. $x^2 + y^2 = 121$\n",
        "\n",
        "d. $y^2 + 7x^2 = 12x$"
      ],
      "metadata": {
        "id": "CydLyP4_U9Q4"
      }
    },
    {
      "cell_type": "markdown",
      "source": [
        "### 2. **Which of the following is a function?**\n",
        "\n",
        "a. $9x - 5y^2 = 2$\n",
        "\n",
        "b. $8x^3 + 4y = 32$\n",
        "\n",
        "c. $9x^4 + 12y^2 = 8x^2 - 10$\n",
        "\n",
        "d. $y^2 + 17 = 3x^2$"
      ],
      "metadata": {
        "id": "_HblenuGVLQS"
      }
    },
    {
      "cell_type": "markdown",
      "source": [
        "## Equations of Circles."
      ],
      "metadata": {
        "id": "IA05hsOXVLqS"
      }
    },
    {
      "cell_type": "markdown",
      "source": [
        "### 1. **Write the equation of a circle whose center is (6, -7) and which has a radius of 3.**"
      ],
      "metadata": {
        "id": "SxDtwJ_VVP2w"
      }
    },
    {
      "cell_type": "markdown",
      "source": [
        "### 2.  **Write the equaion of a circle whose center is (3 ,-7) and which has a radius of 9.**"
      ],
      "metadata": {
        "id": "mmcuy1fAVQF4"
      }
    },
    {
      "cell_type": "markdown",
      "source": [
        "## Greatest Integer Functions."
      ],
      "metadata": {
        "id": "QgQ46wT8VQTA"
      }
    },
    {
      "cell_type": "markdown",
      "source": [
        "### 1. **For $f(x) = \\left\\lfloor{x} \\right\\rfloor$, evaluate $f(12.959)$.**"
      ],
      "metadata": {
        "id": "xX1udbE8VYzh"
      }
    },
    {
      "cell_type": "markdown",
      "source": [
        "### 2. **For $f(x) = \\left\\lfloor\\frac{95}{x} \\right\\rfloor$, evaluate $f(12)$.**"
      ],
      "metadata": {
        "id": "ve7lPJX-VZKR"
      }
    },
    {
      "cell_type": "markdown",
      "source": [],
      "metadata": {
        "id": "BN7gPi_Egxec"
      }
    }
  ]
}