{
  "nbformat": 4,
  "nbformat_minor": 0,
  "metadata": {
    "colab": {
      "provenance": [],
      "toc_visible": true,
      "authorship_tag": "ABX9TyM7fNZDyencvcYIYu5Y6896",
      "include_colab_link": true
    },
    "kernelspec": {
      "name": "python3",
      "display_name": "Python 3"
    },
    "language_info": {
      "name": "python"
    }
  },
  "cells": [
    {
      "cell_type": "markdown",
      "metadata": {
        "id": "view-in-github",
        "colab_type": "text"
      },
      "source": [
        "<a href=\"https://colab.research.google.com/github/SpenBobCat/Calculus-1/blob/main/Unit_1_Pre_Calculus_Review.ipynb\" target=\"_parent\"><img src=\"https://colab.research.google.com/assets/colab-badge.svg\" alt=\"Open In Colab\"/></a>"
      ]
    },
    {
      "cell_type": "markdown",
      "source": [
        "Calculus-1\n",
        "\n",
        "# **Unit-1_Pre-Calculus_Review.**\n",
        "\n",
        "Sophia Learning Platform\n",
        "\n",
        "By: Michael Spencer 7/23/2023"
      ],
      "metadata": {
        "id": "STYhoG6wwhCn"
      }
    },
    {
      "cell_type": "markdown",
      "source": [
        "## Evaluate Piecewise Functions."
      ],
      "metadata": {
        "id": "0BbkVgJowuCp"
      }
    },
    {
      "cell_type": "markdown",
      "source": [
        "### 1. Consider the following piecewise function:\n",
        "\n",
        "$f(x) = \\begin{cases} 3x + 9 & x < -1 \\\\ 3x^2 - 5x + 2 & x \\ge -1 \\end{cases}$\n",
        "\n",
        "Evaluate $f(-3), f(-1), f(2)$\n"
      ],
      "metadata": {
        "id": "Hz-Z1ZcMxCQT"
      }
    },
    {
      "cell_type": "markdown",
      "source": [
        "- $f(-3)$ select $x < -1$:  $f(-3) = 3(-3) + 9 = 0$\n",
        "- $f(-1)$ select $x \\ge -1$: $f(-1) = 3(-1)^2 - 5(-1) + 2 = 10$\n",
        "- $f(2)$ select $x \\ge -1$:  $f(2) = 3(2)^2 - 5(2) + 2 = 4$\n",
        "\n"
      ],
      "metadata": {
        "id": "y-JfYwURyLc1"
      }
    },
    {
      "cell_type": "markdown",
      "source": [
        "### 2. Consider the following piecewise function:\n",
        "\n",
        "$f(x) = \\begin{cases} 3x & x < 3 \\\\ -2x^3 + 5x - 4 & x \\ge 3 \\end{cases}$\n",
        "\n",
        "Evaluate $f(-5), f(3), f(5)$\n"
      ],
      "metadata": {
        "id": "anEcGLCQzXUO"
      }
    },
    {
      "cell_type": "markdown",
      "source": [
        "- $f(-5)$: $3(-5) = -15$\n",
        "- $f(3)$: $-2(3)^3 + 5(3) - 4 = -54 + 15 - 4 = -43$\n",
        "- $f(5)$: $-2(5)^3 + 5(5) - 4 = -250 + 25 - 4 = -229$"
      ],
      "metadata": {
        "id": "KtfmQQeR0zjZ"
      }
    },
    {
      "cell_type": "markdown",
      "source": [
        "## Trigonometric Functions."
      ],
      "metadata": {
        "id": "_1w26rmD2LJW"
      }
    },
    {
      "cell_type": "markdown",
      "source": [
        "### 1. Solve the equation:\n",
        "\n",
        "$2\\cos(x) - \\sqrt{3} = 0$ on the interval $[0, 2\\pi]$\n"
      ],
      "metadata": {
        "id": "Qy42sZTm2wTy"
      }
    },
    {
      "cell_type": "markdown",
      "source": [
        "First isolate the $\\cos(x)$ term to one side by adding $\\sqrt{3}$ to both sides:\n",
        "\n",
        "$2\\cos(x) = \\sqrt{3}$\n",
        "\n",
        "Solve for $\\cos(x)$ by dividing both sides by $2$\n",
        "\n",
        "$\\cos(x) = \\frac{\\sqrt{3}}{2}$\n",
        "\n",
        "Consulting the unit circle, this means that $x = 30^\\circ$ and $330^\\circ$\n",
        "\n",
        "In radians this means $x = \\frac{\\pi}{6}$ and $x = \\frac{11\\pi}{6}$"
      ],
      "metadata": {
        "id": "a2fw78u93LvA"
      }
    },
    {
      "cell_type": "markdown",
      "source": [
        "### 2. Find the exact value of $\\sin(\\frac{\\pi}{4})$ by using the unit circle."
      ],
      "metadata": {
        "id": "1J4FCiQF5NRY"
      }
    },
    {
      "cell_type": "markdown",
      "source": [
        "$\\sin(\\frac{\\pi}{4}) = \\sin(45^\\circ) = \\frac{\\sqrt{2}}{2}$"
      ],
      "metadata": {
        "id": "BKmjH1dq5-LV"
      }
    },
    {
      "cell_type": "markdown",
      "source": [
        "## Composition of Functions."
      ],
      "metadata": {
        "id": "NOF2Wa2z6pwr"
      }
    },
    {
      "cell_type": "markdown",
      "source": [
        "### 1. Let $f(x) = 7x - 4$ and $g(x) = -2x^2 +8$.\n",
        "\n",
        "Find and Simplify: $(g \\circ f(x))$"
      ],
      "metadata": {
        "id": "OtyvoLXq7Bl3"
      }
    },
    {
      "cell_type": "markdown",
      "source": [
        "Rewrite using the definition of composition:\n",
        "\n",
        "$(g \\circ f(x)) = g(f(x))$\n",
        "\n",
        "Substitute: $7x - 4$ for $f(x)$\n",
        "\n",
        "$g(f(x)) = g(7x - 4)$\n",
        "\n",
        "Evaluate the function and simplify:\n",
        "\n",
        "$g(f(x)) = -2(7x - 4)^2 + 8$\n",
        "$g(f(x)) = -2(7x - 4)(7x - 4) + 8$\n",
        "$g(f(x)) = -2(49x^2 - 56x + 16) + 8$\n",
        "$g(f(x)) = -98x^2 + 112x^2 - 32 + 8$\n",
        "$g(f(x)) = -98x^2 + 112x^2 - 24$ \\\\\n",
        "\n",
        "\n",
        "$(g \\circ f(x)) = -98x^2 + 112x^2 - 24$\n",
        "\n"
      ],
      "metadata": {
        "id": "dRGNIccH7tk9"
      }
    },
    {
      "cell_type": "markdown",
      "source": [
        "### 2. Let $f(x) = 3x - 2$ and $g(x) = -5x^2 + 4$\n",
        "\n",
        "Find and Simplify: $(g \\circ f(x))$"
      ],
      "metadata": {
        "id": "wyirVhAm-Nsp"
      }
    },
    {
      "cell_type": "markdown",
      "source": [
        "Rewrite using the definition of composition:\n",
        "\n",
        "$(g \\circ f(x)) = g(f(x))$\n",
        "\n",
        "Substitute $3x - 2$ for $f(x)$:\n",
        "\n",
        "$g(f(x)) = g(3x - 2)$\n",
        "\n",
        "Evaluate the function and simplify:\n",
        "\n",
        "$g(f(x)) = -5(3x - 2)^2 + 4$\n",
        "$g(f(x)) = -5(3x - 2)(3x - 2) + 4$\n",
        "$g(f(x)) = -5(9x^2 - 12x + 4) + 4$\n",
        "$g(f(x)) = -45x^2 + 60x - 16$ \\\\\n",
        "\n",
        "$(g \\circ f(x)) = -45x^2 + 60x - 16$\n"
      ],
      "metadata": {
        "id": "XJafJwshDIXD"
      }
    },
    {
      "cell_type": "markdown",
      "source": [
        "## Exponential and Logarithmic Functions."
      ],
      "metadata": {
        "id": "DngBXAjBFIkU"
      }
    },
    {
      "cell_type": "markdown",
      "source": [
        "### 1. Use logarithm properties to expand the expression:\n",
        "\n",
        "$\\log_{4} (\\frac{x^8 z^5}{y^{12}})$\n"
      ],
      "metadata": {
        "id": "NUVpwbsdFYJm"
      }
    },
    {
      "cell_type": "markdown",
      "source": [
        "$\\frac{x^8 z^5}{y^{12}}$ is a quotient; apply the quotient property:\n",
        "\n",
        "$\\log_4 (x^8 z^5) - \\log_4(y^{12})$\n",
        "\n",
        "$x^8 z^5$ is a product; apply the product property:\n",
        "\n",
        "$\\log_4 x^8 + \\log_4 z^5 - \\log_4 y^{12}$\n",
        "\n",
        "Apply the power property:\n",
        "\n",
        "$8\\log_4 x + 5\\log_4 z - 12\\log_4 y$"
      ],
      "metadata": {
        "id": "QdybpZgpGlz5"
      }
    },
    {
      "cell_type": "markdown",
      "source": [
        "### 2. Use logarithm properies to write $12\\log_2 y + 7\\log_2 w - 15\\log_2 z$ as a single logarithm.\n"
      ],
      "metadata": {
        "id": "JGWZDR7GH_Xz"
      }
    },
    {
      "cell_type": "markdown",
      "source": [
        "$12\\log_2 y + 7\\log_2 w - 15\\log_2 z$\n",
        "\n",
        "Reverse the power property:\n",
        "\n",
        "$\\log_2 y^{12} + \\log_2 w^7 - \\log_2 z^{15}$\n",
        "\n",
        "Reverse the product property:\n",
        "\n"
      ],
      "metadata": {
        "id": "tNSYxM9vKGkd"
      }
    }
  ]
}