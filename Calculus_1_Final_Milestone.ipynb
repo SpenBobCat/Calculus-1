{
  "nbformat": 4,
  "nbformat_minor": 0,
  "metadata": {
    "colab": {
      "provenance": [],
      "toc_visible": true,
      "authorship_tag": "ABX9TyPgQXPAmO6TcPRQWQYTURzP",
      "include_colab_link": true
    },
    "kernelspec": {
      "name": "python3",
      "display_name": "Python 3"
    },
    "language_info": {
      "name": "python"
    }
  },
  "cells": [
    {
      "cell_type": "markdown",
      "metadata": {
        "id": "view-in-github",
        "colab_type": "text"
      },
      "source": [
        "<a href=\"https://colab.research.google.com/github/SpenBobCat/Calculus-1/blob/main/Calculus_1_Final_Milestone.ipynb\" target=\"_parent\"><img src=\"https://colab.research.google.com/assets/colab-badge.svg\" alt=\"Open In Colab\"/></a>"
      ]
    },
    {
      "cell_type": "markdown",
      "source": [
        "$p(x) = \\lfloor\\frac{60}{x}\\rfloor$ Evaluate $p =(11)$"
      ],
      "metadata": {
        "id": "AifXynR2kNJl"
      }
    },
    {
      "cell_type": "markdown",
      "source": [
        "Find $\\epsilon > 0$, Find $\\sigma > 0$ necessary to prove:\n",
        "\n",
        "$\\lim\\limits_{x\\to-4}(6x - 10) = -34$\n",
        "\n",
        "a. $\\sigma = \\frac{\\epsilon}{6}$\n",
        "\n",
        "b. $\\sigma = \\frac{\\epsilon}{6} - 4$\n",
        "\n",
        "c. $\\sigma = \\frac{\\epsilon}{6} - 20$\n",
        "\n",
        "d. $\\sigma = -\\frac{\\epsilon}{6}$"
      ],
      "metadata": {
        "id": "014BsKCLlGpS"
      }
    },
    {
      "cell_type": "markdown",
      "source": [
        "\n",
        "A sphere is to be designed with a radius of 12cm.\n",
        "\n",
        "Use differentials to estimate the maximum error when measuring the surface area of the sphere if the possible error in measuring the radius is 0.25 cm\n",
        "\n",
        "$A(r) = 4\\pi r^2$\n",
        "\n",
        "a. 75.398\n",
        "\n",
        "b. 301.593\n",
        "\n",
        "c. 452.389\n",
        "\n",
        "d. 1809.557\n"
      ],
      "metadata": {
        "id": "UbpfakyWq-QR"
      }
    },
    {
      "cell_type": "markdown",
      "source": [
        "find the linear approximation of $f(x) = \\sqrt[3]{x}$ when $x=-8$\n",
        "\n",
        "a. $L(x) = -2 - \\frac{1}{12}(x-8)$\n",
        "\n",
        "b. $L(x) = -2 + \\frac{1}{12}(x+8)$\n",
        "\n",
        "c. $L(x) = -2 + \\frac{1}{12}(x-8)$\n",
        "\n",
        "d. $L(x) = 2 - \\frac{1}{12}(x+8)$"
      ],
      "metadata": {
        "id": "sYXguXnWtb2l"
      }
    },
    {
      "cell_type": "markdown",
      "source": [
        "Let $f(x) = (12x^2 + 36)^5$.\n",
        "\n",
        "Find the differential, $df$\n",
        "\n",
        "a. $df = 120x(12x^2 +36)^4 dx$\n",
        "\n",
        "b. $df = 5(12x^2 +36)^4$\n",
        "\n",
        "c. $df = 5(12x^2 +36)^4 dx$\n",
        "\n",
        "d. $df = 120x(12x^2 +36)^4$"
      ],
      "metadata": {
        "id": "jNPsZoKXuaSo"
      }
    },
    {
      "cell_type": "markdown",
      "source": [
        "For $\\epsilon > 0$, find $\\sigma > 0$ necessary to prove $\\lim\\limits_{x\\to5}(9x - 30) = 15$\n",
        "\n",
        "a. $\\sigma = \\frac{\\epsilon}{9}+40$ \\\\\n",
        "b. $\\sigma = -\\frac{\\epsilon}{9}$ \\\\\n",
        "c.$\\sigma = \\frac{\\epsilon}{9}+5$ \\\\\n",
        "d.$\\sigma = \\frac{\\epsilon}{9}$\n"
      ],
      "metadata": {
        "id": "rjqRadAeeZ67"
      }
    },
    {
      "cell_type": "markdown",
      "source": [
        "Therefore, for every $\\epsilon > 0$, we can find a $\\sigma > 0$ (specifically, $\\sigma = \\frac{\\epsilon}{9}$) such that if $0 < |x - 5| < \\sigma$, then $|(9x - 30) - 15| < \\epsilon$. This fulfills the condition for the limit, and the correct answer is:\n",
        "\n",
        "d. $\\sigma = \\frac{\\epsilon}{9}$"
      ],
      "metadata": {
        "id": "DurH_Dhifk-6"
      }
    },
    {
      "cell_type": "markdown",
      "source": [
        "Find the derivative of $f(x) = \\frac{2}{x^6} - 4\\cos(x) - \\sqrt[5]{x}$\n",
        "\n",
        "a. $f'(x) = -\\frac{12}{x^7} - 4\\sin(x) - \\frac{1}{5x^\\frac{4}{5}} $ \\\\\n",
        "b. $f'(x) = \\frac{1}{3x^5} - 4\\sin(x) - \\frac{1}{5x^\\frac{4}{5}} $ \\\\\n",
        "c. $f'(x) = -\\frac{1}{3x^5} + 4\\sin(x) - \\frac{1}{5x^\\frac{4}{5}} $ \\\\\n",
        "d. $f'(x) = -\\frac{12}{x^7} + 4\\sin(x) - \\frac{1}{5x^\\frac{4}{5}} $\n"
      ],
      "metadata": {
        "id": "KIiLys-OfmOR"
      }
    },
    {
      "cell_type": "markdown",
      "source": [
        "Determine which table defines y as a function of x.\n",
        "```\n",
        "a. x      y\n",
        "   3      7\n",
        "   4      5\n",
        "   4      6\n",
        "   7      0\n",
        "   8      3\n",
        "\n",
        "b. x      y\n",
        "   1      3   \n",
        "   1      -1\n",
        "   4      7\n",
        "   5      6\n",
        "   7      11\n",
        "\n",
        "c. x      y\n",
        "   -2     5\n",
        "   0      4\n",
        "   1      5\n",
        "   5      3\n",
        "   5      -3\n",
        "\n",
        "d. x      y\n",
        "   5      8\n",
        "   9      4\n",
        "   10     3\n",
        "   11     5\n",
        "   12     -1\n",
        "\n",
        "```"
      ],
      "metadata": {
        "id": "jOJdJcp_jilx"
      }
    },
    {
      "cell_type": "markdown",
      "source": [
        "For $\\lim\\limits_{x\\to{-1}}(5x + 11) = 6$\n",
        "\n",
        "Find $\\sigma$, when $\\epsilon = 0.005$\n",
        "\n",
        "a. 0.001 \\\\\n",
        "b. -4.995 \\\\\n",
        "c. -0.01 \\\\\n",
        "d. 0.01\n"
      ],
      "metadata": {
        "id": "9a4DWPYhlb5l"
      }
    },
    {
      "cell_type": "markdown",
      "source": [
        "Find the exact area between the graphs $f(x) = cos(x)$ and $g(x) = 2 - cos(x)$ between $x=0$ and $x=2\\pi$\n",
        "\n",
        "a. $4\\pi$ \\\\\n",
        "b. $-4\\pi$ \\\\\n",
        "c. $2$\n",
        "d. $-2$"
      ],
      "metadata": {
        "id": "jyFmUnasoBLn"
      }
    },
    {
      "cell_type": "markdown",
      "source": [
        "Find the average value and the value(s) of c guaranteed by the mean value theorem for integrals if $f(x) = x^2 + 3$ over the interval $[0, 3]$\n",
        "\n",
        "a. $f_{avg} = 18$, $c = \\sqrt{15}$ and $c = -\\sqrt{15}$\n",
        "\n",
        "b. $f_{avg} = 6$, $c = \\sqrt{3}$\n",
        "\n",
        "c. $f_{avg} = 18$, $c = \\sqrt{15}$\n",
        "\n",
        "d. $f_{avg} = 6$, $c = \\sqrt{3}$ and $c = -\\sqrt{3}$\n"
      ],
      "metadata": {
        "id": "gCxgeM6HpY6-"
      }
    },
    {
      "cell_type": "markdown",
      "source": [
        "A sphere is to be designed with a radius of 12 cm.\n",
        "\n",
        "Use differentials to estimate the maximum error when measuring the surface area of the sphere if the possible error in measuring the radius is 0.25 cm."
      ],
      "metadata": {
        "id": "mdazTqrbrXdt"
      }
    },
    {
      "cell_type": "markdown",
      "source": [
        "Find the derivative $f(x) = -5x^2 \\log_7(2x^4 + 13)$\n",
        "\n",
        "a. $f'(x) = -10x\\log_7(2x^4 + 13) - \\frac{40x^5}{2x^4 + 13}$\n",
        "\n",
        "b. $f'(x) = -\\frac{80x^4}{(2x^4 + 13)\\ln7}$\n",
        "\n",
        "c. $f'(x) = -10x\\log_7(2x^4 + 13) - \\frac{40x^5}{(2x^4 + 13)\\ln7}$\n",
        "\n",
        "d. $f'(x) = -\\frac{80x^4}{2x^4 + 13}$\n"
      ],
      "metadata": {
        "id": "6UYHSD-fshLB"
      }
    },
    {
      "cell_type": "markdown",
      "source": [
        "## Indefinite Integral."
      ],
      "metadata": {
        "id": "qA-1TgYmN4he"
      }
    },
    {
      "cell_type": "markdown",
      "source": [
        "### Q1.  **Find the following indefinite integral:  $\\int \\cos(x)\\sin^{7}(x)dx$**\n",
        "\n",
        "Apply u-substitution:\n",
        "\n",
        "Integral Substitution Definition: $\\int f(g(x)) \\cdot g'(x)dx = \\int f(u)du, u = g(x)$\n",
        "\n",
        "Substitute: $u = sin(x)$\n",
        "\n",
        "$\\frac{du}{dx} = \\cos(x)$\n",
        "\n",
        "$\\frac{d}{dx}(\\sin(x))$\n",
        "\n",
        "Apply the common derivative: $\\frac{d}{dx}(sin(x)) = \\cos(x)$\n",
        "\n",
        "$= \\cos(x)$\n",
        "\n",
        "$\\Rightarrow\\;\\; du = \\cos(x)dx$\n",
        "\n",
        "$\\Rightarrow\\;\\; dx = \\frac{1}{cos(x)}du$\n",
        "\n",
        "Simplify:  $\\cos(x)u^7 \\frac{1}{\\cos(x)}: u^7$\n",
        "\n",
        "$\\cos(x)u^7 \\frac{1}{\\cos(x)}$\n",
        "\n",
        "Multiply Fractions: $a \\cdot \\frac{b}{c} = \\frac{a \\cdot b}{c}$\n",
        "\n",
        "$= \\frac{1 \\cdot \\cos(x)u^7}{\\cos(x)}$\n",
        "\n",
        "Cancel the common factor:  $\\cos(x)$\n",
        "\n",
        "$= 1 \\cdot u^7 = u^7$\n",
        "\n",
        "$\\int u^7du$  Apply the Power Rule: $\\int x^a dx = \\frac{x^{a+1}}{a+1}$, $a \\ne -1$\n",
        "\n",
        "$= \\frac{u^{7+1}}{7+1}: \\frac{u^8}{8}$\n",
        "\n",
        "$= \\frac{u^8}{8}$\n",
        "\n",
        "Substitute back $u = \\sin(x)$\n",
        "\n",
        "$= \\frac{\\sin^8(x)}{8}$\n",
        "\n",
        "Add a constant to the solution:\n",
        "\n",
        "$= \\frac{\\sin^8(x)}{8} + c$\n",
        "\n"
      ],
      "metadata": {
        "id": "36QDZy21OAPv"
      }
    },
    {
      "cell_type": "markdown",
      "source": [
        "## Third Derivative."
      ],
      "metadata": {
        "id": "sGpp9zdhToJU"
      }
    },
    {
      "cell_type": "markdown",
      "source": [
        "### Q1. Find the third derivative of:\n",
        "$f(x) = 3\\sqrt[4]{x^3} - 5\\cos(x)$\n",
        "\n",
        "Find the third derivative of: $f(x) = 3\\sqrt[4]{x^3} - 5\\cos(x)$\n",
        "\n",
        "a.  $f'''(x) = \\frac{45}{4x^\\frac{9}{4}} - 5\\sin(x)$\n",
        "\n",
        "b.  $f'''(x) = \\frac{45}{64x^\\frac{9}{4}} - 5\\sin(x)$\n",
        "\n",
        "c.  $f'''(x) = -\\frac{45}{4x^\\frac{9}{4}} + 5\\sin(x)$\n",
        "\n",
        "d.  $f'''(x) = -\\frac{45}{64x^\\frac{9}{4}} - 5\\sin(x)$"
      ],
      "metadata": {
        "id": "0XXvyo5-T5DN"
      }
    },
    {
      "cell_type": "markdown",
      "source": [
        "Solution: \\\\\n",
        "b.  $f'''(x) = \\frac{45}{64x^\\frac{9}{4}} - 5\\sin(x)$"
      ],
      "metadata": {
        "id": "e76LHeatY977"
      }
    },
    {
      "cell_type": "markdown",
      "source": [],
      "metadata": {
        "id": "p3SKgFdeZHp1"
      }
    }
  ]
}