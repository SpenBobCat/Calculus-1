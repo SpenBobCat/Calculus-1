{
  "nbformat": 4,
  "nbformat_minor": 0,
  "metadata": {
    "colab": {
      "provenance": [],
      "toc_visible": true,
      "authorship_tag": "ABX9TyM6Q0JPO7rj1+k41fvfUsqJ",
      "include_colab_link": true
    },
    "kernelspec": {
      "name": "python3",
      "display_name": "Python 3"
    },
    "language_info": {
      "name": "python"
    }
  },
  "cells": [
    {
      "cell_type": "markdown",
      "metadata": {
        "id": "view-in-github",
        "colab_type": "text"
      },
      "source": [
        "<a href=\"https://colab.research.google.com/github/SpenBobCat/Calculus-1/blob/main/Calculus_1_Syllabus.ipynb\" target=\"_parent\"><img src=\"https://colab.research.google.com/assets/colab-badge.svg\" alt=\"Open In Colab\"/></a>"
      ]
    },
    {
      "cell_type": "markdown",
      "source": [
        "Sophia Learning\n",
        "\n",
        "# **MATH1040: Calculus I (4 semester credits)**\n",
        "\n",
        "COURSE DESCRIPTION\n",
        "\n",
        "Sophia’s Calculus I course helps you build mastery of the fundamental concepts of calculus. In this course, you will start by reviewing precalculus topics and then gain experience with limits and continuity, interpretations and applications of derivatives, and techniques of integration. You will also have the opportunity to demonstrate the application of these calculus topics with real-world situations. Prior completion of PreCalculus is recommended.\n",
        "\n",
        "COURSE EFFECTIVE DATES: June 2022 - Present PREREQUISITES: No prerequisites; prior completion of Pre-Calculus is recommended.\n",
        "\n",
        "LENGTH OF COURSE: This is a self-paced course. Students may use as much or as little time as needed to complete the course. ACE\n",
        "\n",
        "CREDIT® RECOMMENDATION: In the lower-division baccalaureate/associate degree category, 4 semester hours in calculus I (6/22).\n",
        "\n",
        "GRADING: This is a pass/fail course. Students must complete 21 Challenges (formative assessments) and 6 Milestones (summative assessments) with an overall score of 70% or better."
      ],
      "metadata": {
        "id": "Fx6mIO_nUY9H"
      }
    },
    {
      "cell_type": "markdown",
      "source": [
        "**LEARNING OUTCOMES**\n",
        "\n",
        "Upon completion of the course, the student will be able to:\n",
        "\n",
        "1. Write equations of lines and circles.\n",
        "2. Identify, evaluate, and utilize function notation in various situations including the difference quotient.\n",
        "3. Analyze and graph combinations of functions by using basic functions.\n",
        "4. Express average and instantaneous rates of change by using the difference quotient.\n",
        "5. Use graphs, tables, and properties of limits to evaluate limit values or determine if a limit does not exist.\n",
        "6. Determine where a function is continuous using the limit concept.\n",
        "7. Demonstrate the formal definition of a limit.\n",
        "8. Evaluate the derivative of a function using graphs, limits, and basic derivative rules.\n",
        "9. Calculate first and higher order derivatives using rules and properties of differentiation.\n",
        "10. Differentiate composite, exponential, and logarithmic functions using the chain rule.\n",
        "11. Approximate function values and errors in calculations by using differentials.\n",
        "12. Use implicit differentiation to calculate the derivative.\n",
        "13. Locate extreme values of functions using derivatives and critical values.\n",
        "14. Apply Rolle's theorem and the mean value theorem where appropriate.\n",
        "15. Apply the first and second derivatives to graph a function and apply them to optimization problems.\n",
        "16. Evaluate limits involving infinity and connect these limits with asymptotes.\n",
        "17. Apply L'Hopital's rule to evaluate limits of indeterminate forms.\n",
        "18. Approximate area using geometric formulas and Riemann sums.\n",
        "19. Compute definite integrals using Riemann sums, areas, and properties.\n",
        "20. Calculate indefinite integrals of various functions.\n",
        "21. Apply the fundamental theorem of calculus to evaluate definite xintegrals in various application settings.\n"
      ],
      "metadata": {
        "id": "GIMFZOw_U0Pb"
      }
    },
    {
      "cell_type": "markdown",
      "source": [
        "**OUTLINE OF MAJOR CONTENT AREAS**\n",
        "\n",
        "- Distance and Slope of a Line Between Two Points\n",
        "- Equations of Circles and Lines\n",
        "- Defining and Evaluating Functions\n",
        "- Difference Quotients\n",
        "- Evaluating and Graphing Piecewise Functions\n",
        "- Composition of Functions\n",
        "- Types of Functions including Absolute Value, Greatest Integer, Trigonometric, Exponential, and Logarithmic\n",
        "- Average and Instantaneous Rate of Change\n",
        "- The Graph, Table, and Algebra Methods of Functions\n",
        "- Properties of Limits and the Squeeze Theorem  - Continuous Functions and Intermediate Value Theorem\n",
        "- Definition of a Limit\n",
        "- Definition of a Derivative\n",
        "- Differentiability\n",
        "- The Product, Quotient, and General Power Rules - Derivatives of Trigonometric Functions\n",
        "- The Chain Rule\n",
        "- Linear Approximation"
      ],
      "metadata": {
        "id": "fyHT8zVZV52u"
      }
    },
    {
      "cell_type": "markdown",
      "source": [
        "- The Differential of f\n",
        "- Implicit Differentiation\n",
        "- Inverse Trigonometric Functions                                 \n",
        "- Related Rates Problems Using Geometric Formulas, Proportional\n",
        "Reasoning, and Trigonometry\n",
        "- Maximums and Minimums of a Function\n",
        "- Rolle's Theorem and Mean Value Theorem\n",
        "- First and Second Shape Theorem\n",
        "- Concavity and Inflection Points\n",
        "- Horizontal and Vertical Asymptotes\n",
        "- L'Hopital's Rule\n",
        "- Area and Sigma Notation\n",
        "- Definition and Properties of the Definite Integral\n",
        "- Areas, Integrals, and Antiderivatives         \n",
        "- Indefinite Integrals of Polynomial, Trigonometric, and Exponential Functions\n",
        "- Changing the Variable: U-Substitution\n",
        "- The Fundamental Theorem of Calculus\n",
        "- Antiderivatives Applications"
      ],
      "metadata": {
        "id": "9FeBWAcbXHjq"
      }
    }
  ]
}