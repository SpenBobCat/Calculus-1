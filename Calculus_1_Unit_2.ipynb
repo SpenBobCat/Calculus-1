{
  "nbformat": 4,
  "nbformat_minor": 0,
  "metadata": {
    "colab": {
      "provenance": [],
      "toc_visible": true,
      "authorship_tag": "ABX9TyO6jfC83XLdKRZ1lwb6ge0V",
      "include_colab_link": true
    },
    "kernelspec": {
      "name": "python3",
      "display_name": "Python 3"
    },
    "language_info": {
      "name": "python"
    }
  },
  "cells": [
    {
      "cell_type": "markdown",
      "metadata": {
        "id": "view-in-github",
        "colab_type": "text"
      },
      "source": [
        "<a href=\"https://colab.research.google.com/github/SpenBobCat/Calculus-1/blob/main/Calculus_1_Unit_2.ipynb\" target=\"_parent\"><img src=\"https://colab.research.google.com/assets/colab-badge.svg\" alt=\"Open In Colab\"/></a>"
      ]
    },
    {
      "cell_type": "markdown",
      "source": [
        "# MATH1040: Calculus I (4 semester credits)\n",
        "\n",
        "**Sophia Learning**\n",
        "\n",
        "COURSE DESCRIPTION\n",
        "\n",
        "Sophia’s Calculus I course helps you build mastery of the fundamental concepts of calculus. In this course, you will start by reviewing precalculus topics and then gain experience with limits and continuity, interpretations and applications of derivatives, and techniques of integration. You will also have the opportunity to demonstrate the application of these calculus topics with real-world situations. Prior completion of Pre- Calculus is recommended.\n",
        "\n",
        "COURSE EFFECTIVE DATES: June 2022 - Present\n",
        "\n",
        "PREREQUISITES: No prerequisites; prior completion of Pre-Calculus is recommended.\n",
        "\n",
        "LENGTH OF COURSE: This is a self-paced course. Students may use as much or as little time as needed to complete the course.\n",
        "\n",
        "ACE CREDIT® RECOMMENDATION: In the lower-division baccalaureate/associate degree category, 4 semester hours in calculus I (6/22).\n",
        "\n",
        "GRADING: This is a pass/fail course. Students must complete 21 Challenges (formative assessments) and 6 Milestones (summative assessments) with an overall score of 70% or better.\n"
      ],
      "metadata": {
        "id": "8hzD6rSpcFcN"
      }
    },
    {
      "cell_type": "markdown",
      "source": [
        "## Using Logarithmic Properties.\n",
        "\n",
        "$log_4(\\frac{x^8 \\cdot z^5}{y^{12}})$ is $8 \\cdot log_4(x) + 5 \\cdot log_4(z) - 12 \\cdot log_4(y)$."
      ],
      "metadata": {
        "id": "J4sbuztvAiYJ"
      }
    },
    {
      "cell_type": "markdown",
      "source": [
        "## The Table Method.\n",
        "\n",
        "$\\lim\\limits_{x\\to3}\\frac{x^{3}-27}{x^{2}-5x+6}$\n",
        "\n",
        "```\n",
        "x      | (x^3 - 27) / (x^2 - 5x + 6)\n",
        "------------------------------------\n",
        "2.9    | 29.011\n",
        "2.99   | 27.182\n",
        "2.999  | 27.018\n",
        "3      | Undefined\n",
        "3.001  | 26.982\n",
        "3.01   | 26.822\n",
        "3.1    | 25.373\n",
        "```\n",
        "\n",
        "$\\lim\\limits_{x\\to3}\\frac{x^{3}-27}{x^{2}-5x+6} = \\lim\\limits_{x\\to3}\\frac{x^2+3x+9}{x-2} = \\frac{3^2+3(3)+9}{3-2} = \\frac{9+9+9}{1} = \\frac{27}{1} = 27$"
      ],
      "metadata": {
        "id": "HdXveP8q4SPN"
      }
    },
    {
      "cell_type": "markdown",
      "source": [
        "## One-Sided Limits.\n",
        "\n",
        "$f(x) = \\begin{cases} {x^2 - 5x} & x < 3 \\\\ 7x - 4 & x \\ge 3 \\end{cases}$\n",
        "\n",
        "Evaluate One-Sided limits of:\n",
        "\n",
        "$\\lim\\limits_{x\\to3^-}f(x)$ and $\\lim\\limits_{x\\to3^+}f(x)$"
      ],
      "metadata": {
        "id": "c8DFYFRl4uiO"
      }
    },
    {
      "cell_type": "markdown",
      "source": [
        "To evaluate the one-sided limits of the function f(x) as x approaches 3 from the left and right, we consider the two separate cases defined by the function for x < 3 and x ≥ 3.\n",
        "\n",
        "For the left-hand limit, as x approaches 3 from the left (x → 3^-), we consider the expression x^2 - 5x, since x < 3:\n",
        "\n",
        "$\\lim\\limits_{x\\to3^-}f(x) = \\lim\\limits_{x\\to3^-}(x^2 - 5x)$\n",
        "\n",
        "Substituting x = 3 into the expression x^2 - 5x:\n",
        "$\\lim\\limits_{x\\to3^-}f(x) = (3^2) - 5(3) = 9 - 15 = -6$\n",
        "\n",
        "Therefore, $\\lim\\limits_{x\\to3^-}f(x) = -6$.\n",
        "\n",
        "For the right-hand limit, as x approaches 3 from the right (x → 3^+), we consider the expression 7x - 4, since x ≥ 3:\n",
        "\n",
        "$\\lim\\limits_{x\\to3^+}f(x) = \\lim\\limits_{x\\to3^+}(7x - 4)$\n",
        "\n",
        "Substituting x = 3 into the expression 7x - 4:\n",
        "$\\lim\\limits_{x\\to3^+}f(x) = 7(3) - 4 = 21 - 4 = 17$\n",
        "\n",
        "Therefore, $\\lim\\limits_{x\\to3^+}f(x) = 17$."
      ],
      "metadata": {
        "id": "j7idmNNIBBDG"
      }
    },
    {
      "cell_type": "markdown",
      "source": [
        "$\\lim\\limits_{x\\to3^-}f(x) = -6$\n",
        "\n",
        "$\\lim\\limits_{x\\to3^+}f(x) = 17$"
      ],
      "metadata": {
        "id": "vgh6njC9Ao6N"
      }
    },
    {
      "cell_type": "markdown",
      "source": [
        "## Using Properties of Limits:\n",
        "\n",
        "Use properties to evaluate limits.\n",
        "\n",
        "Given $\\lim\\limits_{x\\to-5}f(x)=16$ and $\\lim\\limits_{x\\to-5}g(x)=-12$\n",
        "\n",
        "Evaluate:\n",
        "\n",
        "$\\lim\\limits_{x\\to-5}[5f(x) - 3g(x)]$"
      ],
      "metadata": {
        "id": "P_jx8q2OBQ1g"
      }
    },
    {
      "cell_type": "markdown",
      "source": [
        "To evaluate the limit $\\lim\\limits_{x\\to-5}[5f(x) - 3g(x)]$, we can use the properties of limits. According to the properties, we can distribute the limit across the terms involved. Let's calculate it step by step:\n",
        "\n",
        "Given:\n",
        "$\\lim\\limits_{x\\to-5}f(x) = 16$\n",
        "$\\lim\\limits_{x\\to-5}g(x) = -12$\n",
        "\n",
        "Now, let's substitute these values into the expression and simplify:\n",
        "\n",
        "$\\lim\\limits_{x\\to-5}[5f(x) - 3g(x)] = 5\\lim\\limits_{x\\to-5}f(x) - 3\\lim\\limits_{x\\to-5}g(x)$\n",
        "\n",
        "Substituting the given limits:\n",
        "$= 5(16) - 3(-12)$\n",
        "\n",
        "Simplifying:\n",
        "$= 80 + 36$\n",
        "\n",
        "$= 116$\n",
        "\n",
        "Therefore, $\\lim\\limits_{x\\to-5}[5f(x) - 3g(x)] = 116$."
      ],
      "metadata": {
        "id": "xVxIsE4dEV2_"
      }
    },
    {
      "cell_type": "markdown",
      "source": [
        "## Squeeze Theorem.\n",
        "\n",
        "Use the squeeze theorem to evaluate a limit.\n",
        "\n",
        "Suppose $-x^2 - 8x - 14 \\le f(x) \\le 2x + 11$ for all values near $x = -5$ except possibly at $-5$.\n",
        "\n",
        "Evaluate:\n",
        "\n",
        "$\\lim\\limits_{x\\to-5}f(x)$"
      ],
      "metadata": {
        "id": "GmBc2b_fEp1x"
      }
    },
    {
      "cell_type": "markdown",
      "source": [
        "To evaluate the limit $\\lim\\limits_{x\\to-5}f(x)$ using the squeeze theorem, we need to compare the given function $f(x)$ with two other functions whose limits we know. Let's analyze the given inequality:\n",
        "\n",
        "$-x^2 - 8x - 14 \\le f(x) \\le 2x + 11$\n",
        "\n",
        "We can rewrite this as:\n",
        "$-x^2 - 8x - 14 \\le f(x) \\le 2x + 11$\n",
        "\n",
        "Now, let's find the limits of the two bounding functions as $x$ approaches $-5$:\n",
        "\n",
        "$\\lim\\limits_{x\\to-5}-x^2 - 8x - 14 = -5^2 - 8(-5) - 14 = -51$\n",
        "$\\lim\\limits_{x\\to-5}2x + 11 = 2(-5) + 11 = 1$\n",
        "Since $-51 \\le f(x) \\le 1$ for all values near $x = -5$ except possibly at $-5$, we have established a \"squeeze\" on $f(x)$.\n",
        "\n",
        "By the squeeze theorem, if the two bounding functions have the same limit as $x$ approaches $-5$, then the function $f(x)$ must also have the same limit. Therefore, we can conclude that:\n",
        "\n",
        "$\\lim\\limits_{x\\to-5}f(x) = 1$\n",
        "\n",
        "Therefore, the correct answer is (d) $\\lim\\limits_{x\\to-5}f(x) = 1$."
      ],
      "metadata": {
        "id": "OrK4xD3IFiio"
      }
    }
  ]
}