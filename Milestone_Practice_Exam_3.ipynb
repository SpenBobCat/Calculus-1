{
  "nbformat": 4,
  "nbformat_minor": 0,
  "metadata": {
    "colab": {
      "provenance": [],
      "toc_visible": true,
      "authorship_tag": "ABX9TyMpKBZ2oH4XOyANLUA7Npcn",
      "include_colab_link": true
    },
    "kernelspec": {
      "name": "python3",
      "display_name": "Python 3"
    },
    "language_info": {
      "name": "python"
    }
  },
  "cells": [
    {
      "cell_type": "markdown",
      "metadata": {
        "id": "view-in-github",
        "colab_type": "text"
      },
      "source": [
        "<a href=\"https://colab.research.google.com/github/SpenBobCat/Calculus-1/blob/main/Milestone_Practice_Exam_3.ipynb\" target=\"_parent\"><img src=\"https://colab.research.google.com/assets/colab-badge.svg\" alt=\"Open In Colab\"/></a>"
      ]
    },
    {
      "cell_type": "markdown",
      "source": [
        "# **Milestone Practice Exam #3.**\n",
        "\n",
        "Calculus-1\n",
        "\n",
        "Sophia Learning Platform.\n",
        "\n",
        "By: Michael Spencer\n",
        "7/6/2023"
      ],
      "metadata": {
        "id": "BbfqxGuIvrXt"
      }
    },
    {
      "cell_type": "markdown",
      "source": [
        "## Product Rule.\n",
        "\n",
        "Find derivative:\n",
        "\n",
        "$f(x) = x^5 cos x - 5sin x$"
      ],
      "metadata": {
        "id": "JxQGazCSmqxJ"
      }
    },
    {
      "cell_type": "markdown",
      "source": [
        "derivative of the function $f(x) = x^5 \\cos(x) - 5 \\sin(x)$.\n",
        "\n",
        "Using the product rule, we have:\n",
        "\n",
        "$\\frac{d}{dx}(x^5 \\cos(x) - 5 \\sin(x)) = (5x^4 \\cos(x) - \\sin(x)) + (x^5(-\\sin(x)) + \\cos(x))$\n",
        "\n",
        "Simplifying further, we have:\n",
        "\n",
        "$\\frac{d}{dx}(x^5 \\cos(x) - 5 \\sin(x)) = 5x^4 \\cos(x) - x^5 \\sin(x) + \\cos(x)$\n",
        "\n",
        "Therefore, the correct derivative of the function $f(x) = x^5 \\cos(x) - 5 \\sin(x)$ is:\n",
        "\n",
        "$f'(x) = 5x^4 \\cos(x) - x^5 \\sin(x) + \\cos(x)$"
      ],
      "metadata": {
        "id": "GEfi84kcnEea"
      }
    },
    {
      "cell_type": "markdown",
      "source": [
        "## Derivatives and Graphs.\n",
        "\n",
        "Using the graph of $f(x) = \\frac{1}{8}x^4$, estimate the derivative of $f(x)$ when $x = 2$.\n",
        "\n",
        "$m = \\frac{y_{2}-y_{1}}{x_{2}-x_{1}}$\n",
        "\n",
        "When $x = 2$, $y = 2$ so the point on the graph is $(2, 2)$.\n",
        "\n",
        "Looking at the graph visually I can see that $(0, -6)$ is also a point on the tangent line of the graph. So, now just substitute the values into the corresponding formula:\n",
        "\n",
        "- $x_1 = 2$\n",
        "- $y_1 = 2$\n",
        "- $x_2 = 0$\n",
        "- $y_2 = -6$\n",
        "\n",
        "$m = \\frac{-6 - 2}{0 - 2}$ = $\\frac{-8}{-2}$ = $4$\n"
      ],
      "metadata": {
        "id": "SeV6AQzPqO7h"
      }
    },
    {
      "cell_type": "markdown",
      "source": [
        "## Definition of Derivative.\n",
        "\n",
        "Use the limit definition of the derivative to find $f'(x)$ when $f(x) = -9x^2$.\n"
      ],
      "metadata": {
        "id": "4d0sjGPnQsu4"
      }
    },
    {
      "cell_type": "markdown",
      "source": [
        "Limit definition of the derivative is $f'(x) = \\lim\\limits_{h\\to0}\\frac{f(x + h) - f(x)}{h}$\n",
        "\n",
        "- First:\n",
        "\n",
        "$f(x + h) = -9(x + h)^2$ \\\\\n",
        "$= -9(x^2 + 2xh + h^2)$ \\\\\n",
        "$= -9x^2 - 18xh - 9h^2$ \\\\\n",
        "\n",
        "- Next:\n",
        "\n",
        "$\\frac{-9x^2 - 18xh - 9h^2 - (-9x^2)}{h}$ \\\\\n",
        "$= \\frac{-18xh - 9h^2}{h}$ \\\\\n",
        "$= -18x - 9h$\n",
        "\n",
        "- Finally:\n",
        "\n",
        "Substitute $0$ in for $h$ to evaluate the limit as $h$ approaches $0$.\n",
        "\n",
        "$f'(x) = -18x$\n",
        "\n"
      ],
      "metadata": {
        "id": "0lYYXBBFTIMr"
      }
    },
    {
      "cell_type": "markdown",
      "source": [
        "## Basic Derivative Rules.\n",
        "\n",
        "Find the derivative of $g(x) = \\frac{1}{x^{10}}$\n"
      ],
      "metadata": {
        "id": "kiWsyeqbWfvm"
      }
    },
    {
      "cell_type": "markdown",
      "source": [
        "Rewrite without an exponent in the denominator:\n",
        "\n",
        "$g(x) = x^{-10}$\n",
        "\n",
        "Applying the power rule, we have:\n",
        "\n",
        "$g'(x) = -10x^{-10 - 1}$ $= -10x^{-11}$\n",
        "\n",
        "Negative exponent means that it is **NOT** in simplest form:\n",
        "\n",
        "$g'(x) = \\frac{-10}{x^{11}}$"
      ],
      "metadata": {
        "id": "Ljni1UDtYTkr"
      }
    },
    {
      "cell_type": "markdown",
      "source": [
        "## Equations of Tangent Lines.\n",
        "\n",
        "Write the equation of the line tangent to $f(x) = \\frac{1}{x^2}$ when $x = -1$\n",
        "\n"
      ],
      "metadata": {
        "id": "nLKCP4b5ZxxO"
      }
    },
    {
      "cell_type": "markdown",
      "source": [
        "- line is tangent to graph at point $(-1, f(-1))$ or $(-1, 1)$\n",
        "\n",
        "- Find the slope:  $f(x) = \\frac{1}{x^2}$ \\\\\n",
        "can be rewritten as: \\\\\n",
        "\n",
        "$f(x) = x^{-2}$\n",
        "\n",
        "- By the power rule:  $f'(x) = -2x^{-3}$ $= \\frac{-2}{x^3}$\n",
        "\n",
        "- So the slope of the tangent line at $x = -1$ is $f'(-1) = \\frac{-2}{(-1)^3} = 2$\n",
        "\n",
        "Now use the tangent line formula:  $y = f(a) + f'(a)(x - a)$ and plug in the values $a = -1$\n",
        "\n",
        "$f(-1) = \\frac{1}{(-1)^2} = 1$, $f'(-1) = \\frac{-2}{(-1)^3} = 2$ \\\\\n",
        " \\\\\n",
        " \\\\\n",
        "$y = f(-1) + f'(-1)(x - (-1))$\n",
        "\n",
        "$y = 1 + 2(x + 1)$\n",
        "\n",
        "$y = 1 + 2x + 2$\n",
        "\n",
        "$y = 2x + 3$"
      ],
      "metadata": {
        "id": "tVPpBTQMbGAi"
      }
    },
    {
      "cell_type": "markdown",
      "source": [
        "## Differentiability.\n",
        "\n",
        "Determine if the function $f(x) = \\sqrt[3]{x^2}$ is differentiable at $x = -64$.  If not identify why."
      ],
      "metadata": {
        "id": "sjoaa_X8e5QS"
      }
    },
    {
      "cell_type": "markdown",
      "source": [
        "$f(x) = \\sqrt[3]{x^2}$ is a radical function with $n = 3$ which is odd and continuous at $(-\\infty, \\infty)$\n",
        "\n",
        "Rewrite the function:  $f(x) = \\sqrt[3]{x^2}$ $\\longrightarrow$ $f(x) = x^{\\frac{2}{3}}$\n",
        "\n",
        "Find the derivative:  $f'(x) = \\frac{2}{3}x^{-\\frac{1}{3}}$ no negative exponent so, $= \\frac{2}{3x^{\\frac{1}{3}}}$\n",
        "\n",
        "This answer is defined for all real numbers except $x = 0$.  This means $f'(64)$ is defined.\n",
        "\n",
        "Because $f(x) = \\sqrt[3]{x^2}$ is continuous at $x = -64$ and $f'(-64)$ is defined , $f(x)$ is differentiable at $x = -64$."
      ],
      "metadata": {
        "id": "wr8gSrMCfpc3"
      }
    },
    {
      "cell_type": "markdown",
      "source": [
        "## Derivative of Elementary Combinations of Functions.\n",
        "\n",
        "Find the derivative of:\n",
        "\n",
        "$f(x) = \\frac{3}{x^8} + 4\\sqrt[3]{x} - 2x^3 - 17cosx$\n",
        "\n"
      ],
      "metadata": {
        "id": "fxTkXMiUjdgn"
      }
    },
    {
      "cell_type": "markdown",
      "source": [
        "**I.** First Evaluate $D[\\frac{3}{x^8}]$ by rewriting without a power in the denominator:\n",
        "\n",
        "$D[\\frac{3}{x^8}]$ $= D[3x^{-8}]$\n",
        "\n",
        "2. Constant Multiple Rule:\n",
        "\n",
        "$D[\\frac{3}{x^8}]$ $= 3D[x^{-8}]$\n",
        "\n",
        "3. Power Rule.\n",
        "\n",
        "$D[\\frac{3}{x^8}]$ $= 3(-8x^{-9})$\n",
        "\n",
        "4. Simplify:\n",
        "\n",
        "$D[\\frac{3}{x^8}]$ $= -24x^{-9}$\n",
        "\n",
        "5. Rewrite using positive exponents.\n",
        "\n",
        "$D[\\frac{3}{x^8}]$ $= -\\frac{24}{x^9}$\n",
        "\n",
        " \\\\\n",
        " \\\\\n",
        "\n",
        "**II.** Find $D[4\\sqrt[3]{x}]$ by rewriting the expression using rational exponents:\n",
        "  \n",
        "$D[4\\sqrt[3]{x}]$ $= D[4x^{\\frac{1}{3}}]$\n",
        "\n",
        "2. Constant Multiple Rule:\n",
        "\n",
        "$D[4\\sqrt[3]{x}]$ $= 4D[x^{\\frac{1}{3}}]$\n",
        "\n",
        "3. Power Rule:\n",
        "\n",
        "$D[4\\sqrt[3]{x}]$ $= 4(\\frac{1}{3}x^{-\\frac{2}{3}})$\n",
        "\n",
        "4. Rewrite using positive exponents.\n",
        "\n",
        "$D[4\\sqrt[3]{x}]$ $= \\frac{4}{3x^{\\frac{2}{3}}}$\n",
        "\n",
        " \\\\\n",
        " \\\\\n",
        "\n",
        "**III.** Evaluate $D[2x^3]$ by applying the constant multiple rule:\n",
        "\n",
        "$D[2x^3]$ $= 2D[x^3]$\n",
        "\n",
        "2. Power Rule:\n",
        "\n",
        "$D[2x^3]$ $= 2(3x^2)$\n",
        "\n",
        "3. Simplify:\n",
        "\n",
        "$D[2x^3]$ $= 6x^2$\n",
        "\n",
        " \\\\\n",
        " \\\\\n",
        "\n",
        "**IV.** Evaluate $D[17cosx]$ by using the constant multiple rule:\n",
        "\n",
        "$D[17cosx]$ $= 17D[cosx]$\n",
        "\n",
        "2. Find the derivative of $cos x$:\n",
        "\n",
        "$D[17cosx]$ $= 17(-sinx)$\n",
        "\n",
        "3. Simplify:\n",
        "\n",
        "$D[17cosx]$ $= -17sinx$\n",
        "\n",
        "**V.** Now combine all parts:\n",
        "\n",
        "$D[\\frac{3}{x^8} + 4\\sqrt[3]{x} - 2x^3 - 17cosx]$ $=  -\\frac{24}{x^9} + \\frac{4}{3x^{\\frac{2}{3}}} - 6x^2 - (-17sinx)$ $= -\\frac{24}{x^9} + \\frac{4}{3x^{\\frac{2}{3}}} - 6x^2 + 17sinx$"
      ],
      "metadata": {
        "id": "n7zpbT1ElMdd"
      }
    },
    {
      "cell_type": "markdown",
      "source": [
        "Another way to solve:\n",
        "\n",
        "To find the derivative of the function $f(x) = \\frac{3}{x^8} + 4\\sqrt[3]{x} - 2x^3 - 17\\cos(x)$, we can apply the derivative rules for elementary combinations of functions.\n",
        "\n",
        "Let's find the derivative of each term one by one:\n",
        "\n",
        "$\\frac{d}{dx} \\left(\\frac{3}{x^8}\\right)$:\n",
        "Using the power rule, we have:\n",
        "$\\frac{d}{dx} \\left(\\frac{3}{x^8}\\right) = -8\\cdot 3x^{-8-1} = -24x^{-9} = \\frac{-24}{x^9}$\n",
        "\n",
        "$\\frac{d}{dx} \\left(4\\sqrt[3]{x}\\right)$:\n",
        "Using the power rule, we have:\n",
        "$\\frac{d}{dx} \\left(4\\sqrt[3]{x}\\right) = 4\\cdot \\frac{1}{3} x^{\\frac{1}{3} - 1} = \\frac{4}{3}x^{-\\frac{2}{3}} = \\frac{4}{3x^{\\frac{2}{3}}}$\n",
        "\n",
        "$\\frac{d}{dx} (-2x^3)$:\n",
        "Using the power rule, we have:\n",
        "$\\frac{d}{dx} (-2x^3) = -2 \\cdot 3x^{3-1} = -6x^2$\n",
        "\n",
        "$\\frac{d}{dx} (-17\\cos(x))$:\n",
        "The derivative of $\\cos(x)$ is $-\\sin(x)$, so:\n",
        "$\\frac{d}{dx} (-17\\cos(x)) = -17(-\\sin(x)) = 17\\sin(x)$\n",
        "\n",
        "Now, we can sum up the derivatives of each term to find the derivative of the whole function:\n",
        "\n",
        "$f'(x) = \\frac{-24}{x^9} + \\frac{4}{3x^{\\frac{2}{3}}} - 6x^2 + 17\\sin(x)$\n",
        "\n",
        "Therefore, the derivative of $f(x) = \\frac{3}{x^8} + 4\\sqrt[3]{x} - 2x^3 - 17\\cos(x)$ is $f'(x) = \\frac{-24}{x^9} + \\frac{4}{3x^{\\frac{2}{3}}} - 6x^2 + 17\\sin(x)$."
      ],
      "metadata": {
        "id": "AAvQm1CWxHta"
      }
    },
    {
      "cell_type": "markdown",
      "source": [
        "## The Quotient Rule.\n",
        "\n",
        "Apply the quotient rule formula and simplify.\n",
        "\n",
        "Find the derivative of $f(x) = \\frac{3x - 5}{17sinx}$"
      ],
      "metadata": {
        "id": "n-wfoqIKvfs7"
      }
    },
    {
      "cell_type": "markdown",
      "source": [
        "This is a quotient of two functions that cannot be simplified prior to differentiating.  Apply the quotient rule formula and simplify.\n",
        "\n",
        "$f'(x) = \\frac{17sinx\\cdot D[3x - 5] - (3x - 5)\\cdot D[17sinx]}{(17sinx)^2}$\n",
        "\n",
        "Recall $D[3x - 5] = 3$ and $D[17sinx] = 17cosx$\n",
        "\n",
        "$f'(x) = \\frac{17sin(3) - (3x - 5)\\cdot 17cosx}{(17sinx)^2}$\n",
        "\n",
        " \\\\\n",
        "\n",
        "\n",
        "Simplify by removing the parentheses:\n",
        "\n",
        "$f'(x) = \\frac{51sinx - 51xcosx + 85cosx}{289sin^{2}x}$\n",
        "\n",
        " \\\\\n",
        "\n",
        "Factor out a common factor of 17 in the numerator:\n",
        "\n",
        "$f'(x) = \\frac{17(3sinx - 3xcosx + 5cosx)}{289sin^{2}x}$\n",
        "\n",
        " \\\\\n",
        "\n",
        "Remove the common factor of 17 from the numerator and the denominator:\n",
        "\n",
        "$f'(x) = \\frac{3\\sin x - 3x\\cos x + 5\\cos x}{17\\sin^{2}x}$\n",
        "\n",
        "This results in the simplest form as:\n",
        "\n",
        " \\\\\n",
        "\n",
        "$f'(x) = \\frac{3\\sin x - 3x\\cos x + 5\\cos x}{17\\sin^{2}x}$"
      ],
      "metadata": {
        "id": "v_mpFAG9xtaw"
      }
    },
    {
      "cell_type": "markdown",
      "source": [
        "## General Power Rule for Functions.\n",
        "\n",
        "Find the derivative of $f(x) = (4x^2 - 7x + 32)^{11}$"
      ],
      "metadata": {
        "id": "5z6bE-4y19li"
      }
    },
    {
      "cell_type": "markdown",
      "source": [
        "This is a function raised to a power. By the power rule, we have the following:\n",
        "\n",
        "$f'(x) = 11(4x^2 - 7x + 32)^{10}\\cdot D[4x^2 - 7x + 32]$\n",
        "\n",
        "Evaluate $D[4x^2 - 7x + 32]$: \\\\\n",
        "\n",
        "$f'(x) = 11(4x^2 - 7x + 32)^{10}\\cdot (8x - 7)$\n",
        "\n",
        " \\\\\n",
        "\n",
        "Rearrange factors:\n",
        " \\\\\n",
        "\n",
        "$f'(x) = 11(8x - 7)(4x^2 - 7x + 32)^{10}$"
      ],
      "metadata": {
        "id": "7IcFAHsh7myA"
      }
    },
    {
      "cell_type": "markdown",
      "source": [
        "## Derivatives of Trigonometric Functions.\n",
        "\n",
        "Find the derivative of:\n",
        "\n",
        "$y = 8x^3 - \\frac{3}{x^8} + 7\\tan x$"
      ],
      "metadata": {
        "id": "xHGlsO-t-DnN"
      }
    },
    {
      "cell_type": "markdown",
      "source": [
        "To find the derivative of the function $y = 8x^3 - \\frac{3}{x^8} + 7\\tan(x)$, we can apply the derivative rules for each term. Let's find the derivative of each term one by one:\n",
        "\n",
        "$\\frac{d}{dx} (8x^3)$:\n",
        "Using the power rule, we have:\n",
        "$\\frac{d}{dx} (8x^3) = 3 \\cdot 8x^{3-1} = 24x^2$\n",
        "\n",
        "$\\frac{d}{dx} \\left(-\\frac{3}{x^8}\\right)$:\n",
        "Using the power rule, we have:\n",
        "$\\frac{d}{dx} \\left(-\\frac{3}{x^8}\\right) = -8 \\cdot (-3) x^{-8-1} = 24x^{-9} = \\frac{24}{x^9}$\n",
        "\n",
        "$\\frac{d}{dx} (7\\tan(x))$:\n",
        "The derivative of the tangent function $\\tan(x)$ is given by:\n",
        "$\\frac{d}{dx} (\\tan(x)) = \\sec^2(x)$\n",
        "\n",
        "Using the chain rule, we have:\n",
        "$\\frac{d}{dx} (7\\tan(x)) = 7\\cdot\\frac{d}{dx}(\\tan(x)) = 7\\sec^2(x)$\n",
        "\n",
        "Now, we can sum up the derivatives of each term to find the derivative of the whole function:\n",
        "\n",
        "$y' = 24x^2 + \\frac{24}{x^9} + 7\\sec^2(x)$\n",
        "\n",
        "Therefore, the derivative of $y = 8x^3 - \\frac{3}{x^8} + 7\\tan(x)$ is $y' = 24x^2 + \\frac{24}{x^9} + 7\\sec^2(x)$."
      ],
      "metadata": {
        "id": "qHgQI01Y-i_t"
      }
    },
    {
      "cell_type": "markdown",
      "source": [
        "## Higher-Order Derivatives.\n",
        "\n",
        "Find the third derivative of:\n",
        "\n",
        "$f(x) = \\frac{3}{x^5} - 9\\cos x$"
      ],
      "metadata": {
        "id": "lJFshSkl-j31"
      }
    },
    {
      "cell_type": "markdown",
      "source": [
        "To find the third derivative of the function $f(x) = \\frac{3}{x^5} - 9\\cos(x)$, we'll need to differentiate the function three times. Let's find the derivatives step by step:\n",
        "\n",
        "First derivative of $f(x)$:\n",
        "\n",
        "$f'(x) = \\frac{d}{dx}(\\frac{3}{x^5}) - \\frac{d}{dx}(9\\cos x)$\n",
        "\n",
        "Using the power rule and the derivative of cosine, we have:\n",
        "\n",
        "$f'(x) = -5\\frac{3}{x^6} + 9\\sin x$\n",
        "\n",
        "Simplifying:\n",
        "\n",
        "$f'(x) = \\frac{-15}{x^6} + 9\\sin x$\n",
        "\n",
        "Second derivative of $f(x)$:\n",
        "\n",
        "$f''(x) = \\frac{d}{dx}(\\frac{-15}{x^6}) - \\frac{d}{dx}(9\\sin x)$\n",
        "\n",
        "Applying the power rule and the derivative of sine:\n",
        "\n",
        "$f''(x) = -6\\frac{-15}{x^7} + 9\\cos x $\n",
        "\n",
        "Simplifying:\n",
        "\n",
        "$f''(x) = \\frac{90}{x^7} + 9\\cos x$\n",
        "\n",
        "Third derivative of $f(x)$:\n",
        "\n",
        "$f'''(x) = \\frac{d}{dx}(\\frac{90}{x^7}) + \\frac{d}{dx}(9\\cos x)$\n",
        "\n",
        "Using the power rule and the derivative of cosine:\n",
        "\n",
        "$f'''(x) = -7\\frac{90}{x^8} - 9\\sin x $\n",
        "\n",
        "Simplifying:\n",
        "\n",
        "$f'''(x) = \\frac{-630}{x^8} - 9\\sin x$\n",
        "\n",
        "\n",
        "Therefore, the third derivative of $f(x) = \\frac{3}{x^5} - 9\\cos(x)$ is $f'''(x) = \\frac{-630}{x^8} - 9\\sin(x)$.\n",
        "\n",
        "\n",
        "\n",
        "\n",
        "\n"
      ],
      "metadata": {
        "id": "gQMXeCAY_wvj"
      }
    },
    {
      "cell_type": "markdown",
      "source": [
        "## The Chain Rule.\n",
        "\n",
        "Find the derivative of:\n",
        "\n",
        "$y = \\cos (5x^3 + 2x - 1)$\n",
        "\n"
      ],
      "metadata": {
        "id": "fCXiGWJGEewa"
      }
    },
    {
      "cell_type": "markdown",
      "source": [
        "To find the derivative of the function $y = \\cos(5x^3 + 2x - 1)$, we can apply the chain rule. The chain rule states that if we have a composition of functions, where the outer function is $g(x)$ and the inner function is $f(x)$, then the derivative is given by:\n",
        "\n",
        "$(g(f(x)))' = g'(f(x))\\cdot f'(x)$\n",
        "\n",
        " \\\\\n",
        "\n",
        "In this case, the outer function is $\\cos(x)$ and the inner function is $5x^3 + 2x - 1$. Let's find the derivative step by step:\n",
        "\n",
        "First, we need to find the derivative of the outer function $\\cos(x)$, which is $-\\sin(x)$.\n",
        "\n",
        "Next, we find the derivative of the inner function $5x^3 + 2x - 1$.\n",
        "\n",
        "$(5x^3 + 2x − 1)′ = 15x^2 + 2$\n",
        "\n",
        "Now, we can apply the chain rule to find the derivative of $y$:\n",
        "\n",
        "$y′ = (−sin(5x^3 + 2x − 1))\\cdot (15x^2 + 2)$\n",
        "\n",
        "Simplifying further:\n",
        "\n",
        "$y′ = −(15x^2 + 2)\\sin (5x^3 + 2x − 1)$\n",
        "\n",
        "Therefore, the derivative of $y = \\cos(5x^3 + 2x - 1)$ is\n",
        "  \\\\\n",
        "\n",
        "$y' = -(15x^2 + 2) \\sin(5x^3 + 2x - 1)$."
      ],
      "metadata": {
        "id": "IyeLU7fAGsvb"
      }
    },
    {
      "cell_type": "markdown",
      "source": [
        "## Derivative of $y = e^x$\n",
        "\n",
        "Find the derivative of:\n",
        "\n",
        "$y = 3x^4 e^{8x}$\n",
        "\n"
      ],
      "metadata": {
        "id": "9glbiabQIHv8"
      }
    },
    {
      "cell_type": "markdown",
      "source": [
        "This is a product of two functions and the composition of functions.  \n",
        "\n",
        "To find the derivative of $y = 3x^4 e^{8x}$, we can use the product rule combined with the chain rule. The product rule states that if we have a product of two functions, $u(x)$ and $v(x)$, then the derivative is given by:\n",
        "\n",
        "$(uv)′ = u′v + uv′$\n",
        "\n",
        "Let's find the derivative step by step:\n",
        "\n",
        "First, we need to find the derivative of $3x^4$ which is $12x^3$.\n",
        "\n",
        "Next, we need to find the derivative of $e^{8x}$. The derivative of $e^x$ is $e^x$, and since we have an exponential function $e^{8x}$, we need to apply the chain rule. The derivative of the exponent $8x$ is $8$.\n",
        "\n",
        "Therefore, the derivative of $e^{8x}$ is $8e^{8x}$.\n",
        "\n",
        "Now we can apply the product rule:\n",
        "\n",
        "$y′ = (12x^3)(e^{8x}) + (3x^4)(8e^{8x})$\n",
        "\n",
        "Simplifying further:\n",
        "\n",
        "$\\frac{dy}{dx} = 12x^{3}e^{8x} + 24x^{4}e^{8x}$\n",
        "\n",
        "Therefore, the derivative of $y = 3x^4 e^{8x}$ is $y' = 12x^3 e^{8x} + 24x^4 e^{8x}$."
      ],
      "metadata": {
        "id": "oSMEXb4SI-t4"
      }
    },
    {
      "cell_type": "markdown",
      "source": [
        "## Derivative of $y = a^x$\n",
        "\n",
        "Find the derivative of:\n",
        "\n",
        "$f(x) = \\sqrt{15^{6x + 2} + 9}$"
      ],
      "metadata": {
        "id": "jsnCbu00LGKT"
      }
    },
    {
      "cell_type": "markdown",
      "source": [
        "To find the derivative of $f(x) = \\sqrt{15^{6x + 2} + 9}$, we can apply the chain rule. The chain rule states that if we have a composition of functions, where the outer function is $g(x)$ and the inner function is $h(x)$, then the derivative is given by:\n",
        "\n",
        "\n",
        "$(g(h(x)))′ = g′(h(x))\\cdot h′(x)$\n",
        "\n",
        "In this case, the outer function is $\\sqrt{x}$ and the inner function is $15^{6x + 2} + 9$. Let's find the derivative step by step:\n",
        "\n",
        "Rewrite the radical using a fractional exponent:\n",
        "\n",
        "$f(x) = (15^{6x + 2} + 9)^{\\frac{1}{2}}$\n",
        "\n",
        "This is a composition of functions with two layers.\n",
        "\n",
        "First, use the power rule where:\n",
        "\n",
        "$D[u^{\\frac{1}{2}}] = \\frac{1}{2}u^{-\\frac{1}{2}}\\cdot u' \\;\\;$with $u = 15^{6x + 2} + 9$\n",
        "\n",
        "$f'(x) = \\frac{1}{2}(15^{6x + 2} + 9)^{-\\frac{1}{2}}\\cdot D[15^{6x + 2} + 9]$\n",
        "\n",
        "Next we use the Chain Rule where:\n",
        "\n",
        "$D[15^u + 9] = 15^u\\cdot\\ln15\\cdot u'$ with $u = 6x + 2$\n",
        "\n",
        "$f'(x) = \\frac{1}{2}(15^{6x + 2} + 9)^{-\\frac{1}{2}}\\cdot 15^{6x + 2} \\cdot \\ln(15) \\cdot D[6x + 2]$\n",
        " \\\\\n",
        " \\\\\n",
        "Evaluate $D[6x + 2]$:\n",
        "\n",
        "$f'(x) = \\frac{1}{2}(15^{6x + 2} + 9)^{-\\frac{1}{2}}\\cdot 15^{6x + 2} \\cdot \\ln(15) \\cdot 6$\n",
        "\n",
        "Rewrite multiplying numerical factors and without negative exponents:\n",
        "\n",
        "$f'(x) = \\frac{3}{\\sqrt{15^{6x + 2} + 9}}\\cdot 15^{6x + 2}\\ln15$"
      ],
      "metadata": {
        "id": "M2doq2Z3LvKW"
      }
    },
    {
      "cell_type": "markdown",
      "source": [
        "## Derivatives of Natural Logarithmic Functions.\n",
        "\n",
        "Find the derivative of:\n",
        "\n",
        "$f(x) = \\ln(\\frac{x^9}{8x^3 - 13})$"
      ],
      "metadata": {
        "id": "hLQtu5b9RVjY"
      }
    },
    {
      "cell_type": "markdown",
      "source": [
        "First use properties of logarithms to rewrite the function as $\\ln\\frac{a}{b} = \\ln a - \\ln b$\n",
        "\n",
        "$f(x) = \\ln(x^9) - \\ln(8x^3 - 13)$\n",
        "\n",
        " \\\\\n",
        "Now, let's find the derivatives of each term separately:\n",
        "\n",
        "$\\frac{d}{dx}\\ln(x^9)$:\n",
        "The derivative of $\\ln(x^9)$ is given by the chain rule as $\\frac{1}{x^9} \\cdot 9x^8$. Simplifying, we have:\n",
        "\n",
        "$\\frac{d}{dx}\\ln(x^9) = \\frac{9}{x}$\n",
        "\n",
        "$\\frac{d}{dx}\\ln(8x^3 - 13)$:\n",
        "The derivative of $\\ln(8x^3 - 13)$ can be found using the chain rule as $\\frac{1}{8x^3 - 13} \\cdot (24x^2)$. Simplifying, we have:\n",
        " \\\\\n",
        " \\\\\n",
        "$\\frac{d}{dx}\\ln(8x^3 - 13) = \\frac{24x^2}{8x^3 - 13}$\n",
        "\n",
        " \\\\\n",
        "Therefore, the derivative of $f(x) = \\ln\\left(\\frac{x^9}{8x^3 - 13}\\right)$ is $f'(x) = \\frac{9}{x} - \\frac{24x^2}{8x^3 - 13}$.\n",
        "\n"
      ],
      "metadata": {
        "id": "kN3ujZvbXL-9"
      }
    },
    {
      "cell_type": "markdown",
      "source": [
        "## Detrivatives of Non-Natural Logarithmic Functions.\n",
        "\n",
        "Find the derivative of:\n",
        "\n",
        "$y = \\log_4 \\left(\\frac{5x^2 - 2}{\\sqrt{4x + 7}} \\right)$\n",
        "\n"
      ],
      "metadata": {
        "id": "GRcCwHf7YbIb"
      }
    },
    {
      "cell_type": "markdown",
      "source": [
        "To find the derivative of the function $y = \\log_4 \\left(\\frac{5x^2 - 2}{\\sqrt{4x + 7}}\\right)$, we can apply the logarithmic differentiation technique.\n",
        "\n",
        "Using the property $\\log_4 \\frac{a}{b} = \\log_4 a - \\log_4 b$, we can rewrite the function as:\n",
        "\n",
        "$y = \\log_4 (5x^2 - 2) - \\log_4 (\\sqrt{4x + 7})$\n",
        "\n",
        "Now, let's find the derivatives of each term separately:\n",
        "\n",
        "$\\frac{d}{dx} \\log_4 (5x^2 - 2)$:\n",
        "We can differentiate this term by using the change-of-base formula to convert it to natural logarithm:\n",
        "$\\frac{d}{dx} \\log_4 (5x^2 - 2) = \\frac{1}{\\ln(4)} \\cdot \\frac{1}{5x^2 - 2} \\cdot (10x)$\n",
        "\n",
        "$\\frac{d}{dx} \\log_4 (\\sqrt{4x + 7})$:\n",
        "Similarly, we use the change-of-base formula and simplify the expression:\n",
        "$\\frac{d}{dx} \\log_4 (\\sqrt{4x + 7}) = \\frac{1}{\\ln(4)} \\cdot \\frac{1}{\\sqrt{4x + 7}} \\cdot \\frac{1}{2} \\cdot 4$\n",
        "\n",
        "Now, we can find the derivative of the original function $y$ by subtracting the derivatives of the two terms:\n",
        "\n",
        "$y' = \\frac{1}{\\ln(4)} \\cdot \\frac{1}{5x^2 - 2} \\cdot (10x) - \\frac{1}{\\ln(4)} \\cdot \\frac{1}{\\sqrt{4x + 7}} \\cdot \\frac{2}{\\sqrt{4x + 7}}$\n",
        "\n",
        "Simplifying further:\n",
        "\n",
        "$y' = \\frac{10x}{(5x^2 - 2)\\ln(4)} - \\frac{2}{(4x + 7)\\ln(4)}$\n",
        "\n",
        "Therefore, the derivative of $y = \\log_4 \\left(\\frac{5x^2 - 2}{\\sqrt{4x + 7}}\\right)$ is:\n",
        "\n",
        "$y' = \\frac{10x}{(5x^2 - 2)\\ln(4)} - \\frac{2}{(4x + 7)\\ln(4)}$"
      ],
      "metadata": {
        "id": "Xslg6fBGbLsg"
      }
    },
    {
      "cell_type": "markdown",
      "source": [
        "## Applications of Rates of Change.\n",
        "\n",
        "A penny is tossed upward with a velocity of 3.4 meters per second from a height of 26.5 meters. It's height in meters after t seconds is given by:\n",
        "\n",
        "$h(t) = -4.9t^2 + 3.4t + 26.5$\n",
        "\n",
        "Find the velocity of the penny after 2.5 seconds."
      ],
      "metadata": {
        "id": "qVyrZxEdbSZJ"
      }
    },
    {
      "cell_type": "markdown",
      "source": [
        "To find the velocity of the penny after 2.5 seconds, we need to find the derivative of the height function $h(t)$ with respect to time. The derivative of the height function represents the instantaneous rate of change of the height, which is the velocity.\n",
        "\n",
        "Given that the height function is $h(t) = -4.9t^2 + 3.4t + 26.5$, we can find the derivative as follows:\n",
        "\n",
        "$h'(t) = \\frac{d}{dt}(-4.9t^2 + 3.4t + 26.5)$\n",
        "\n",
        "Using the power rule and the fact that the derivative of a constant is zero, we have:\n",
        "\n",
        "$h'(t) = -9.8t + 3.4$\n",
        "\n",
        "Now we can substitute $t = 2.5$ into the derivative expression to find the velocity after 2.5 seconds:\n",
        "\n",
        "$h'(2.5) = -9.8(2.5) + 3.4$\n",
        "\n",
        "Simplifying:\n",
        "\n",
        "$h'(2.5) = -24.5 + 3.4$\n",
        "\n",
        "$h'(2.5) = -21.1$\n",
        "\n",
        "Therefore, the velocity of the penny after 2.5 seconds is -21.1 meters per second."
      ],
      "metadata": {
        "id": "8x38gqmbcHfl"
      }
    },
    {
      "cell_type": "markdown",
      "source": [
        "## Linear Approximation.\n",
        "\n",
        "Find the linear approximation of $f(x) = \\sqrt[5]{x}$ when $x = 32$"
      ],
      "metadata": {
        "id": "imPkyI7RcJwt"
      }
    },
    {
      "cell_type": "markdown",
      "source": [
        "The given function is $f(x) = \\sqrt[5]{x}$, and we want to find the linear approximation when $x = 32$.\n",
        "Let's find the derivative of $f(x)$:\n",
        "\n",
        "Using the power rule, we have:\n",
        "\n",
        "$f'(x) = \\frac{1}{5}x^{-\\frac{4}{5}}$\n",
        "\n",
        "Now, let's evaluate $f'(32)$:\n",
        "\n",
        "$f'(32) = \\frac{1}{5}(32)^{-\\frac{4}{5}} = \\frac{1}{5 \\cdot 2^{\\frac{4}{5}}} = \\frac{1}{80}$\n",
        "\n",
        "To find the linear approximation, we'll use the point-slope form of a line:\n",
        "\n",
        "$L(x) = f(a) + f'(a)(x - a)$\n",
        "\n",
        "In this case, $a = 32$ and $f(a) = f(32) = \\sqrt[5]{32} = 2$\n",
        "\n",
        "Therefore, the linear approximation of $f(x)$ at $x = 32$ is:\n",
        "\n",
        "$L(x) = 2 + \\frac{1}{5 \\cdot 2^{\\frac{4}{5}}}(x - 32)$\n",
        "\n",
        "Simplifying further:\n",
        "\n",
        "$L(x) = 2 + \\frac{1}{80}(x - 32)$\n",
        "\n",
        "Thus, the linear approximation of $f(x) = \\sqrt[5]{x}$ at $x = 32$ is\n",
        "\n",
        "$L(x) = 2 + \\frac{1}{80}(x - 32)$."
      ],
      "metadata": {
        "id": "87wDnhHmeGVK"
      }
    },
    {
      "cell_type": "markdown",
      "source": [
        "## Linear Approximation Error.\n",
        "\n",
        "Consider the function:\n",
        "\n",
        "$f(x) = \\sqrt[3]{x}$ near $x = 27$\n",
        "\n",
        "Find the linear approximation error when using the linear approximation to estimate:\n",
        "\n",
        " $\\sqrt[3]{27.45}$\n",
        "\n",
        ""
      ],
      "metadata": {
        "id": "UNyW84cvfx_u"
      }
    },
    {
      "cell_type": "markdown",
      "source": [
        "$f(x) = x^{\\frac{1}{3}}$ so, $f'(x) = \\frac{1}{3}x^{-\\frac{2}{3}} = \\frac{1}{3x^{\\frac{2}{3}}}$\n",
        "\n",
        "Linear Approximation:\n",
        "\n",
        "$L(x) = f(a) + f'(a)(x - a)$ when $a = 27$\n",
        "\n",
        "Evaluate: $f(27) = 3$ and $f'(27) = \\frac{1}{27}$\n",
        "\n",
        "Substitute into Linear Approximation:\n",
        "\n",
        "$L(x) = 3 + \\frac{1}{27}(x - 27)$\n",
        "\n",
        "$\\sqrt[3]{27.45} \\approx L(27.45) = 3 + \\frac{1}{27}(27.45 - 27) = 3.01667$\n",
        "\n",
        "Actual Value of $\\sqrt[3]{27.45} = 3.01657$\n",
        "\n",
        "Linear Approximation Error:  $|f(27.45) - L(27.45)| = |3.01657 - 3.01667| = 0.00010$"
      ],
      "metadata": {
        "id": "_co1FrRKAVQb"
      }
    },
    {
      "cell_type": "markdown",
      "source": [
        "## The Differential of f.\n",
        "\n",
        "Let $y = \\sin (5x^6 + x^2 - 17)$\n",
        "\n",
        "Find the differential $dy$\n",
        "\n"
      ],
      "metadata": {
        "id": "ZCjwr7fSCvjj"
      }
    },
    {
      "cell_type": "markdown",
      "source": [
        "Chain Rule:\n",
        "\n",
        "$D[\\sin u] = \\cos u\\cdot u'$ where $u = (5x^6 + x^2 - 17)$\n",
        "\n",
        "$y' = (30x^5 + 2x)\\cdot (5x^6 + x^2)$\n",
        "\n",
        "$dy = (30x^5 + 2x)\\cos (5x^6 + x^2 - 17)$"
      ],
      "metadata": {
        "id": "UkXffTaZEJLU"
      }
    },
    {
      "cell_type": "markdown",
      "source": [
        "## Approximation of Measurement Error Using Differentials.\n",
        "\n",
        "A square is to be designed with sides of length: 15 cm\n",
        "\n",
        "Use differentials to estimate the maximum error when measuring the area of the square if the possible error in measuring the side is 0.01 cm."
      ],
      "metadata": {
        "id": "1ZCUPI-DFulC"
      }
    },
    {
      "cell_type": "markdown",
      "source": [
        "To estimate the maximum error in measuring the area of a square with sides of length 15 cm, we can use differentials.\n",
        "\n",
        "Let's denote the side length of the square as $x$ and the area as $A$. The relationship between the side length and the area of a square is given by $A = x^2$.\n",
        "\n",
        "We are given that the possible error in measuring the side is 0.01 cm. Let's denote this error as $dx$. We want to find the corresponding maximum error in the area, denoted as $dA$.\n",
        "\n",
        "Using differentials, we can express the change in the area $dA$ in terms of the change in the side length $dx$ as:\n",
        "\n",
        "$dA = \\frac{dA}{dx}\\cdot dx$\n",
        "\n",
        "To find $\\frac{dA}{dx}$, we differentiate the area formula $A = x^2$ with respect to $x$:\n",
        "\n",
        "$\\frac{dA}{dx} = 2x$\n",
        "\n",
        "Now, we can substitute $x = 15$ cm (the original side length) and $dx = 0.01$ cm (the possible error in measurement) into the differential formula:\n",
        "\n",
        "\n",
        "$dA=(2x)⋅dx$\n",
        "\n",
        "$dA = (2\\cdot 15)\\cdot 0.01$\n",
        "\n",
        "$dA=0.3$\n",
        "\n",
        "Therefore, the maximum error in measuring the area of the square, given the possible error in measuring the side to be 0.01 cm, is 0.3 square centimeters."
      ],
      "metadata": {
        "id": "veP828i8Gq15"
      }
    },
    {
      "cell_type": "markdown",
      "source": [
        "## Algorithm for Newton's Method.\n",
        "\n",
        "Write Newton's Formula used to approximate $\\sqrt[3]{27.5}$, a solution of the equation: $x^3 - 27.5 = 0$ and find the third iteration value. Be sure to verify both parts of the answer are correct when making your selection.\n",
        "\n"
      ],
      "metadata": {
        "id": "Y35RJr2WKLVF"
      }
    },
    {
      "cell_type": "markdown",
      "source": [
        "## Implicit Differentiation.\n",
        "\n",
        "Given:  $7x^3 - 7\\cos x = y^5 - 5$, compute $\\frac{dy}{dx}$\n",
        "\n"
      ],
      "metadata": {
        "id": "ABRijvzSM5R-"
      }
    },
    {
      "cell_type": "markdown",
      "source": [
        "Evaluate each term:\n",
        "\n",
        "- $D[7x^3] = 21x^2$\n",
        "- $D[7\\cos x] = -7\\sin x$\n",
        "- $D[y^5] = 5y^4$\n",
        "- $D[5] = 0$\n",
        "\n",
        "Substitute Values:\n",
        "\n",
        "$21x^2 - (-7\\sin x) = 5y^4\\cdot \\frac{dy}{dx}$\n",
        "\n",
        "$\\frac{dy}{dx} = \\frac{21x^2 - (-7\\sin x)}{5y^4}$\n",
        "\n",
        " \\\\\n",
        "$\\frac{dy}{dx} = \\frac{21x^2 + (7\\sin x)}{5y^4}$"
      ],
      "metadata": {
        "id": "eEw6UiQtOIK0"
      }
    },
    {
      "cell_type": "markdown",
      "source": [
        "## Logarithmic Differentiation.\n",
        "\n",
        "Using logarithmic differentiation, find the derivative of $y = x^{4x^{3} + 7}$\n",
        "\n"
      ],
      "metadata": {
        "id": "aAkd5qCSPQ2S"
      }
    }
  ]
}