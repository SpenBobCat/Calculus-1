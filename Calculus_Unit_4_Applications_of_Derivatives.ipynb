{
  "nbformat": 4,
  "nbformat_minor": 0,
  "metadata": {
    "colab": {
      "provenance": [],
      "toc_visible": true,
      "authorship_tag": "ABX9TyOUnzksSDWJwm1V1GR3WdeZ",
      "include_colab_link": true
    },
    "kernelspec": {
      "name": "python3",
      "display_name": "Python 3"
    },
    "language_info": {
      "name": "python"
    }
  },
  "cells": [
    {
      "cell_type": "markdown",
      "metadata": {
        "id": "view-in-github",
        "colab_type": "text"
      },
      "source": [
        "<a href=\"https://colab.research.google.com/github/SpenBobCat/Calculus-1/blob/main/Calculus_Unit_4_Applications_of_Derivatives.ipynb\" target=\"_parent\"><img src=\"https://colab.research.google.com/assets/colab-badge.svg\" alt=\"Open In Colab\"/></a>"
      ]
    },
    {
      "cell_type": "markdown",
      "source": [
        "Calculus-1\n",
        "\n",
        "# **Unit-4_Applications of Derivatives**\n",
        "\n",
        "Sophia Learning Platform\n",
        "\n",
        "By: Michael Spencer 7/9/2023"
      ],
      "metadata": {
        "id": "-3lH1YKcaeWw"
      }
    },
    {
      "cell_type": "markdown",
      "source": [
        "Learning Objectives:\n",
        "\n",
        "- Locate extreme values of functions using derivatives and critical values\n",
        "- Apply Rolle's Theorem and the Mean Value Theorem where appropriate\n",
        "- Apply the first and second derivatives to graph a function and apply them to optimization problems\n",
        "- Evaluate limits involving infinity and connect these limits with asymptotes\n",
        "- Apply L'Hopital's Rule to evaluate limits of indeterminate forms"
      ],
      "metadata": {
        "id": "AM8AnVsBmma1"
      }
    },
    {
      "cell_type": "markdown",
      "source": [
        "## **Q16.**\n",
        "\n",
        "Determine the slant or non-linear asymptote of:\n",
        "\n",
        "$f(x) = \\frac{2x^3 + x^2 + 3x + 9}{x + 4}$\n",
        "\n",
        "a. $y = 2$\n",
        "\n",
        "b. $y = 2x +1$\n",
        "\n",
        "c. $y = 2x^2 - 7x + 31$\n",
        "\n",
        "d. $y = -4$"
      ],
      "metadata": {
        "id": "wflNnBEps3Ol"
      }
    },
    {
      "cell_type": "markdown",
      "source": [
        "To determine the slant or non-linear asymptote of a rational function, we need to examine the degrees of the numerator and denominator polynomials.\n",
        "\n",
        "In the given function, we have:\n",
        "\n",
        "Numerator: $2x^3 + x^2 + 3x + 9$ (degree 3) \\\\\n",
        "\n",
        "Denominator: $x + 4$ (degree 1)\n",
        "\n",
        "Since the degree of the numerator is greater than the degree of the denominator, we know that the function does not have a horizontal asymptote. Instead, it may have a slant asymptote.\n",
        "\n",
        "To find the equation of the slant asymptote, we perform polynomial long division. Let's divide the numerator by the denominator:\n",
        "\n",
        "```\n",
        "          2x^2  - 7x  + 31\n",
        "       ___________________\n",
        "x + 4  |  2x^3  +  x^2  +  3x  +  9\n",
        "         -(2x^3  +  8x^2)\n",
        "       _________________\n",
        "                  -7x^2  +  3x\n",
        "                  -(-7x^2  -  28x)\n",
        "                 ______________\n",
        "                             31x  +  9\n",
        "                             -(31x  +  124)\n",
        "                            ______________\n",
        "                                       -115\n",
        "```\n",
        "\n",
        "The quotient of the division is $2x^2 - 7x + 31$, and the remainder is $-115$.\n",
        "\n",
        "Therefore, the slant asymptote of the function is the equation $y = 2x^2 - 7x + 31$."
      ],
      "metadata": {
        "id": "W9WDv6b76_yO"
      }
    },
    {
      "cell_type": "markdown",
      "source": [
        "## **Q17.**\n",
        "\n",
        "For $f(x) = -2x^3 - 12x^2 - 18x$, find the following:\n",
        "\n",
        "a. domain \\\\\n",
        "b. asymptotes \\\\\n",
        "c. y- and x-intercepts \\\\\n",
        "d. where the function is increasing or decreasing \\\\\n",
        "e. concave down or concave up \\\\\n",
        "f. relative extrema \\\\\n",
        "g. inflection points \\\\\n",
        "h. graph of the curve\n"
      ],
      "metadata": {
        "id": "vtK8UVGr7mZ_"
      }
    }
  ]
}