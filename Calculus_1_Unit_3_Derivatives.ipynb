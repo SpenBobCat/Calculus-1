{
  "nbformat": 4,
  "nbformat_minor": 0,
  "metadata": {
    "colab": {
      "provenance": [],
      "toc_visible": true,
      "authorship_tag": "ABX9TyPlo6bo/SDhGH5YKlcItmlL",
      "include_colab_link": true
    },
    "kernelspec": {
      "name": "python3",
      "display_name": "Python 3"
    },
    "language_info": {
      "name": "python"
    }
  },
  "cells": [
    {
      "cell_type": "markdown",
      "metadata": {
        "id": "view-in-github",
        "colab_type": "text"
      },
      "source": [
        "<a href=\"https://colab.research.google.com/github/SpenBobCat/Calculus-1/blob/main/Calculus_1_Unit_3_Derivatives.ipynb\" target=\"_parent\"><img src=\"https://colab.research.google.com/assets/colab-badge.svg\" alt=\"Open In Colab\"/></a>"
      ]
    },
    {
      "cell_type": "markdown",
      "source": [
        "# Calculus-1-Unit-3\n",
        "\n",
        "**The Derivatives.**\n",
        "\n",
        "Sophia Learning Platform\n",
        "\n",
        "By: Michael Spencer\n"
      ],
      "metadata": {
        "id": "rl8NWCziuukh"
      }
    },
    {
      "cell_type": "markdown",
      "source": [
        "## Limit Definition.\n",
        "\n",
        "Use the limit definition of the derivative to find:\n",
        "\n",
        "$f'(x)$ when $f(x) = -2x^2$\n",
        "\n",
        "$f'(x) = \\lim\\limits_{h\\to0}\\frac{f(x + h) - f(x)}{h}$\n",
        "\n"
      ],
      "metadata": {
        "id": "NnXI0-ACvsFz"
      }
    },
    {
      "cell_type": "markdown",
      "source": [
        "To find $f'(x)$ using the limit definition of the derivative for the function $f(x) = -2x^2$, we substitute the expression for $f(x + h)$ and $f(x)$ into the formula and simplify.\n",
        "\n",
        "Let's start by plugging in the values:\n",
        "\n",
        "$f'(x) = \\lim\\limits_{h\\to0}\\frac{f(x + h) - f(x)}{h} = \\lim\\limits_{h\\to0}\\frac{-2(x + h)^2 - (-2x^2)}{h}$\n",
        "\n",
        "Now, we simplify the numerator:\n",
        "\n",
        "$f'(x) = \\lim\\limits_{h\\to0}\\frac{-2(x^2 + 2xh + h^2) + 2x^2}{h} = \\lim\\limits_{h\\to0}\\frac{-2x^2 - 4xh - 2h^2 + 2x^2}{h}$\n",
        "\n",
        "Next, we combine like terms in the numerator:\n",
        "\n",
        "$f'(x) = \\lim\\limits_{h\\to0}\\frac{-4xh - 2h^2}{h} = \\lim\\limits_{h\\to0}(-4x - 2h)$\n",
        "\n",
        "Finally, we take the limit as $h$ approaches 0:\n",
        "\n",
        "$f'(x) = -4x - 2(0) = -4x$\n",
        "\n",
        "Therefore, the derivative of the function $f(x) = -2x^2$ is $f'(x) = -4x$."
      ],
      "metadata": {
        "id": "QoT3MG1pEoCU"
      }
    },
    {
      "cell_type": "markdown",
      "source": [
        "## Basic Derivative Rules.\n",
        "\n",
        "Find the Derivative of $h(x) = \\frac{1}{\\sqrt[3]{x^2}}$\n",
        "\n"
      ],
      "metadata": {
        "id": "yv9IuCkYEpHL"
      }
    },
    {
      "cell_type": "markdown",
      "source": [
        "To find the derivative of the function $h(x) = \\frac{1}{\\sqrt[3]{x^2}}$, we can use the power rule for derivatives, combined with the chain rule. The power rule states that if we have a function of the form $f(x) = x^n$, then its derivative is given by $f'(x) = nx^{n-1}$.\n",
        "\n",
        "Let's apply this rule to our function:\n",
        "\n",
        "$h(x) = \\frac{1}{\\sqrt[3]{x^2}}$\n",
        "\n",
        "We can rewrite this as:\n",
        "\n",
        "$h(x) = x^{-\\frac{2}{3}}$\n",
        "\n",
        "Now, applying the power rule, we have:\n",
        "\n",
        "$h'(x) = -\\frac{2}{3}x^{-\\frac{2}{3}-1} = -\\frac{2}{3}x^{-\\frac{5}{3}}$\n",
        "\n",
        "To simplify the expression further, we can rewrite $x^{-\\frac{5}{3}}$ as $\\frac{1}{x^{\\frac{5}{3}}}$. Therefore, the derivative of $h(x)$ is:\n",
        "\n",
        "$h'(x) = -\\frac{2}{3}\\cdot\\frac{1}{x^{\\frac{5}{3}}} = -\\frac{2}{3x^{\\frac{5}{3}}}$\n",
        "\n",
        "Thus, the derivative of the function $h(x) = \\frac{1}{\\sqrt[3]{x^2}}$ is $h'(x) = -\\frac{2}{3x^{\\frac{5}{3}}}$."
      ],
      "metadata": {
        "id": "VG07h-fOKYfK"
      }
    },
    {
      "cell_type": "markdown",
      "source": [],
      "metadata": {
        "id": "2jsSX4PnKZkB"
      }
    }
  ]
}